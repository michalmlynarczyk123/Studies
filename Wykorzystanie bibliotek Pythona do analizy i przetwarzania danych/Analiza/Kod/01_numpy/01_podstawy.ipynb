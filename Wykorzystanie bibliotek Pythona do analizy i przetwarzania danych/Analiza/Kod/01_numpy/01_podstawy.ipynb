{
 "cells": [
  {
   "cell_type": "code",
   "execution_count": 1,
   "id": "initial_id",
   "metadata": {
    "collapsed": true,
    "ExecuteTime": {
     "end_time": "2024-06-01T07:15:37.991161300Z",
     "start_time": "2024-06-01T07:15:37.966765800Z"
    }
   },
   "outputs": [
    {
     "data": {
      "text/plain": "2"
     },
     "execution_count": 1,
     "metadata": {},
     "output_type": "execute_result"
    }
   ],
   "source": [
    "1 + 1"
   ]
  },
  {
   "cell_type": "markdown",
   "source": [
    "## Podstawy NumPy"
   ],
   "metadata": {
    "collapsed": false
   },
   "id": "17398dc2d77a10e"
  },
  {
   "cell_type": "markdown",
   "source": [
    "### Import biblioteki NumPy"
   ],
   "metadata": {
    "collapsed": false
   },
   "id": "ba4a556bc1a268ca"
  },
  {
   "cell_type": "code",
   "execution_count": 2,
   "outputs": [],
   "source": [
    "import numpy as np"
   ],
   "metadata": {
    "collapsed": false,
    "ExecuteTime": {
     "end_time": "2024-06-01T07:25:06.045016900Z",
     "start_time": "2024-06-01T07:25:05.868087300Z"
    }
   },
   "id": "e7dd5c0e56195219"
  },
  {
   "cell_type": "markdown",
   "source": [
    "Tablica 1D"
   ],
   "metadata": {
    "collapsed": false
   },
   "id": "a67a2fe877ce88b0"
  },
  {
   "cell_type": "code",
   "execution_count": 4,
   "outputs": [
    {
     "data": {
      "text/plain": "array([1, 2])"
     },
     "execution_count": 4,
     "metadata": {},
     "output_type": "execute_result"
    }
   ],
   "source": [
    "arr1d = np.array([1, 2])\n",
    "arr1d"
   ],
   "metadata": {
    "collapsed": false,
    "ExecuteTime": {
     "end_time": "2024-06-01T07:30:48.822638700Z",
     "start_time": "2024-06-01T07:30:48.808591500Z"
    }
   },
   "id": "a15777efd3b5dac"
  },
  {
   "cell_type": "code",
   "execution_count": 5,
   "outputs": [
    {
     "data": {
      "text/plain": "numpy.ndarray"
     },
     "execution_count": 5,
     "metadata": {},
     "output_type": "execute_result"
    }
   ],
   "source": [
    "type(arr1d)"
   ],
   "metadata": {
    "collapsed": false,
    "ExecuteTime": {
     "end_time": "2024-06-01T07:30:57.808219400Z",
     "start_time": "2024-06-01T07:30:57.795207800Z"
    }
   },
   "id": "429e5a3f030c3852"
  },
  {
   "cell_type": "markdown",
   "source": [
    "Tablica 2D"
   ],
   "metadata": {
    "collapsed": false
   },
   "id": "330cabe607a55bcd"
  },
  {
   "cell_type": "code",
   "execution_count": 6,
   "outputs": [
    {
     "data": {
      "text/plain": "array([[1, 2],\n       [3, 4]])"
     },
     "execution_count": 6,
     "metadata": {},
     "output_type": "execute_result"
    }
   ],
   "source": [
    "arr2d = np.array([[1, 2], [3, 4]])\n",
    "arr2d"
   ],
   "metadata": {
    "collapsed": false,
    "ExecuteTime": {
     "end_time": "2024-06-01T07:33:27.632344400Z",
     "start_time": "2024-06-01T07:33:27.617114200Z"
    }
   },
   "id": "97a8c346518ff72a"
  },
  {
   "cell_type": "markdown",
   "source": [
    "Tablica 3D"
   ],
   "metadata": {
    "collapsed": false
   },
   "id": "7ac8710f68a68c08"
  },
  {
   "cell_type": "code",
   "execution_count": 9,
   "outputs": [
    {
     "data": {
      "text/plain": "array([[[1, 2],\n        [3, 4]],\n\n       [[5, 6],\n        [7, 8]]])"
     },
     "execution_count": 9,
     "metadata": {},
     "output_type": "execute_result"
    }
   ],
   "source": [
    "arr3d = np.array([[[1, 2], [3, 4]], [[5, 6], [7, 8]]])\n",
    "arr3d"
   ],
   "metadata": {
    "collapsed": false,
    "ExecuteTime": {
     "end_time": "2024-06-01T07:36:06.655720800Z",
     "start_time": "2024-06-01T07:36:06.642164Z"
    }
   },
   "id": "70f5d89dcb58bf72"
  },
  {
   "cell_type": "markdown",
   "source": [
    "Wymiar tablicy"
   ],
   "metadata": {
    "collapsed": false
   },
   "id": "7105e6c36284050b"
  },
  {
   "cell_type": "code",
   "execution_count": 10,
   "outputs": [
    {
     "data": {
      "text/plain": "1"
     },
     "execution_count": 10,
     "metadata": {},
     "output_type": "execute_result"
    }
   ],
   "source": [
    "arr1d.ndim"
   ],
   "metadata": {
    "collapsed": false,
    "ExecuteTime": {
     "end_time": "2024-06-01T07:36:46.999691300Z",
     "start_time": "2024-06-01T07:36:46.988690300Z"
    }
   },
   "id": "254e260b753c582e"
  },
  {
   "cell_type": "code",
   "execution_count": 11,
   "outputs": [
    {
     "data": {
      "text/plain": "2"
     },
     "execution_count": 11,
     "metadata": {},
     "output_type": "execute_result"
    }
   ],
   "source": [
    "arr2d.ndim"
   ],
   "metadata": {
    "collapsed": false,
    "ExecuteTime": {
     "end_time": "2024-06-01T07:37:02.861635Z",
     "start_time": "2024-06-01T07:37:02.847794Z"
    }
   },
   "id": "b92d2f9ae30e5f30"
  },
  {
   "cell_type": "code",
   "execution_count": 12,
   "outputs": [
    {
     "data": {
      "text/plain": "3"
     },
     "execution_count": 12,
     "metadata": {},
     "output_type": "execute_result"
    }
   ],
   "source": [
    "arr3d.ndim"
   ],
   "metadata": {
    "collapsed": false,
    "ExecuteTime": {
     "end_time": "2024-06-01T07:37:08.656471200Z",
     "start_time": "2024-06-01T07:37:08.642655Z"
    }
   },
   "id": "8e6835c900a1a25d"
  },
  {
   "cell_type": "markdown",
   "source": [
    "Kształ tablicy"
   ],
   "metadata": {
    "collapsed": false
   },
   "id": "d34ef33f184ddd5d"
  },
  {
   "cell_type": "code",
   "execution_count": 13,
   "outputs": [
    {
     "data": {
      "text/plain": "(2,)"
     },
     "execution_count": 13,
     "metadata": {},
     "output_type": "execute_result"
    }
   ],
   "source": [
    "arr1d.shape"
   ],
   "metadata": {
    "collapsed": false,
    "ExecuteTime": {
     "end_time": "2024-06-01T07:38:35.527406300Z",
     "start_time": "2024-06-01T07:38:35.514490600Z"
    }
   },
   "id": "bce2e48cdf5db83c"
  },
  {
   "cell_type": "code",
   "execution_count": 14,
   "outputs": [
    {
     "data": {
      "text/plain": "(2, 2)"
     },
     "execution_count": 14,
     "metadata": {},
     "output_type": "execute_result"
    }
   ],
   "source": [
    "arr2d.shape"
   ],
   "metadata": {
    "collapsed": false,
    "ExecuteTime": {
     "end_time": "2024-06-01T07:38:46.907661300Z",
     "start_time": "2024-06-01T07:38:46.887074400Z"
    }
   },
   "id": "271b3071d0439bc2"
  },
  {
   "cell_type": "code",
   "execution_count": 15,
   "outputs": [
    {
     "data": {
      "text/plain": "(2, 2, 2)"
     },
     "execution_count": 15,
     "metadata": {},
     "output_type": "execute_result"
    }
   ],
   "source": [
    "arr3d.shape"
   ],
   "metadata": {
    "collapsed": false,
    "ExecuteTime": {
     "end_time": "2024-06-01T07:38:57.568861600Z",
     "start_time": "2024-06-01T07:38:57.557710900Z"
    }
   },
   "id": "5855e2c6ca2508f2"
  },
  {
   "cell_type": "markdown",
   "source": [
    "Typy danych"
   ],
   "metadata": {
    "collapsed": false
   },
   "id": "8ca3f9a3bbcd8b8e"
  },
  {
   "cell_type": "code",
   "execution_count": 16,
   "outputs": [
    {
     "data": {
      "text/plain": "dtype('int32')"
     },
     "execution_count": 16,
     "metadata": {},
     "output_type": "execute_result"
    }
   ],
   "source": [
    "arr1d.dtype"
   ],
   "metadata": {
    "collapsed": false,
    "ExecuteTime": {
     "end_time": "2024-06-01T07:39:58.485873500Z",
     "start_time": "2024-06-01T07:39:58.472099100Z"
    }
   },
   "id": "5b91c3ad2d5d32e5"
  },
  {
   "cell_type": "code",
   "execution_count": 17,
   "outputs": [
    {
     "data": {
      "text/plain": "dtype('int32')"
     },
     "execution_count": 17,
     "metadata": {},
     "output_type": "execute_result"
    }
   ],
   "source": [
    "arr2d.dtype"
   ],
   "metadata": {
    "collapsed": false,
    "ExecuteTime": {
     "end_time": "2024-06-01T07:40:05.604124Z",
     "start_time": "2024-06-01T07:40:05.580738900Z"
    }
   },
   "id": "b817b1b16ebc570"
  },
  {
   "cell_type": "code",
   "execution_count": 18,
   "outputs": [
    {
     "data": {
      "text/plain": "dtype('int32')"
     },
     "execution_count": 18,
     "metadata": {},
     "output_type": "execute_result"
    }
   ],
   "source": [
    "arr3d.dtype"
   ],
   "metadata": {
    "collapsed": false,
    "ExecuteTime": {
     "end_time": "2024-06-01T07:40:16.129441800Z",
     "start_time": "2024-06-01T07:40:16.114502900Z"
    }
   },
   "id": "7aa652f8f1ddc1a2"
  },
  {
   "cell_type": "code",
   "execution_count": 19,
   "outputs": [
    {
     "data": {
      "text/plain": "array([1.1, 2.2])"
     },
     "execution_count": 19,
     "metadata": {},
     "output_type": "execute_result"
    }
   ],
   "source": [
    "arr_float = np.array([1.1, 2.2])\n",
    "arr_float"
   ],
   "metadata": {
    "collapsed": false,
    "ExecuteTime": {
     "end_time": "2024-06-01T07:40:41.798706Z",
     "start_time": "2024-06-01T07:40:41.786521400Z"
    }
   },
   "id": "4095cbb2005e6b6f"
  },
  {
   "cell_type": "code",
   "execution_count": 20,
   "outputs": [
    {
     "data": {
      "text/plain": "dtype('float64')"
     },
     "execution_count": 20,
     "metadata": {},
     "output_type": "execute_result"
    }
   ],
   "source": [
    "arr_float.dtype"
   ],
   "metadata": {
    "collapsed": false,
    "ExecuteTime": {
     "end_time": "2024-06-01T07:40:51.798173100Z",
     "start_time": "2024-06-01T07:40:51.776640700Z"
    }
   },
   "id": "9603ce76c45d609c"
  },
  {
   "cell_type": "code",
   "execution_count": 21,
   "outputs": [
    {
     "data": {
      "text/plain": "array([ True, False])"
     },
     "execution_count": 21,
     "metadata": {},
     "output_type": "execute_result"
    }
   ],
   "source": [
    "arr_bool = np.array([True, False])\n",
    "arr_bool"
   ],
   "metadata": {
    "collapsed": false,
    "ExecuteTime": {
     "end_time": "2024-06-01T07:41:52.382085Z",
     "start_time": "2024-06-01T07:41:52.360107600Z"
    }
   },
   "id": "4796d9df107ae5df"
  },
  {
   "cell_type": "code",
   "execution_count": 22,
   "outputs": [
    {
     "data": {
      "text/plain": "dtype('bool')"
     },
     "execution_count": 22,
     "metadata": {},
     "output_type": "execute_result"
    }
   ],
   "source": [
    "arr_bool.dtype"
   ],
   "metadata": {
    "collapsed": false,
    "ExecuteTime": {
     "end_time": "2024-06-01T07:41:59.385221300Z",
     "start_time": "2024-06-01T07:41:59.363202200Z"
    }
   },
   "id": "b0adcd8ea42215d"
  },
  {
   "cell_type": "markdown",
   "source": [
    "Jawne deklarowanie typu"
   ],
   "metadata": {
    "collapsed": false
   },
   "id": "780909cb9e0205d7"
  },
  {
   "cell_type": "code",
   "execution_count": 23,
   "outputs": [
    {
     "data": {
      "text/plain": "array([1, 2])"
     },
     "execution_count": 23,
     "metadata": {},
     "output_type": "execute_result"
    }
   ],
   "source": [
    "arr_int = np.array([1.5, 2.2], dtype='int')\n",
    "arr_int"
   ],
   "metadata": {
    "collapsed": false,
    "ExecuteTime": {
     "end_time": "2024-06-01T07:43:49.281462400Z",
     "start_time": "2024-06-01T07:43:49.254916Z"
    }
   },
   "id": "cec7f867a31970a2"
  },
  {
   "cell_type": "code",
   "execution_count": 24,
   "outputs": [
    {
     "data": {
      "text/plain": "dtype('int32')"
     },
     "execution_count": 24,
     "metadata": {},
     "output_type": "execute_result"
    }
   ],
   "source": [
    "arr_int.dtype"
   ],
   "metadata": {
    "collapsed": false,
    "ExecuteTime": {
     "end_time": "2024-06-01T07:44:33.149354900Z",
     "start_time": "2024-06-01T07:44:33.121753900Z"
    }
   },
   "id": "4b75db2b71a2bc9b"
  },
  {
   "cell_type": "markdown",
   "source": [
    "### Funkcje tworzące tablice"
   ],
   "metadata": {
    "collapsed": false
   },
   "id": "a4c4bd5093e34aae"
  },
  {
   "cell_type": "markdown",
   "source": [
    "arange"
   ],
   "metadata": {
    "collapsed": false
   },
   "id": "70f7200b212a0eab"
  },
  {
   "cell_type": "code",
   "execution_count": 25,
   "outputs": [
    {
     "data": {
      "text/plain": "array([0, 1, 2, 3, 4, 5, 6, 7, 8, 9])"
     },
     "execution_count": 25,
     "metadata": {},
     "output_type": "execute_result"
    }
   ],
   "source": [
    "np.arange(0, 10)"
   ],
   "metadata": {
    "collapsed": false,
    "ExecuteTime": {
     "end_time": "2024-06-01T07:46:40.501635300Z",
     "start_time": "2024-06-01T07:46:40.457830500Z"
    }
   },
   "id": "63bac706e68c76b0"
  },
  {
   "cell_type": "code",
   "execution_count": 26,
   "outputs": [
    {
     "data": {
      "text/plain": "array([ 1,  2,  3,  4,  5,  6,  7,  8,  9, 10])"
     },
     "execution_count": 26,
     "metadata": {},
     "output_type": "execute_result"
    }
   ],
   "source": [
    "np.arange(1, 11)"
   ],
   "metadata": {
    "collapsed": false,
    "ExecuteTime": {
     "end_time": "2024-06-01T07:47:10.807113500Z",
     "start_time": "2024-06-01T07:47:10.768581100Z"
    }
   },
   "id": "adc21e59e65baae0"
  },
  {
   "cell_type": "code",
   "execution_count": 27,
   "outputs": [
    {
     "data": {
      "text/plain": "array([ 1,  4,  7, 10, 13, 16, 19])"
     },
     "execution_count": 27,
     "metadata": {},
     "output_type": "execute_result"
    }
   ],
   "source": [
    "np.arange(1, 20, 3)"
   ],
   "metadata": {
    "collapsed": false,
    "ExecuteTime": {
     "end_time": "2024-06-01T07:47:56.620784600Z",
     "start_time": "2024-06-01T07:47:56.579897200Z"
    }
   },
   "id": "89da3177c03074af"
  },
  {
   "cell_type": "markdown",
   "source": [
    "zeros"
   ],
   "metadata": {
    "collapsed": false
   },
   "id": "16b8405e12617114"
  },
  {
   "cell_type": "code",
   "execution_count": 28,
   "outputs": [
    {
     "data": {
      "text/plain": "array([0., 0., 0.])"
     },
     "execution_count": 28,
     "metadata": {},
     "output_type": "execute_result"
    }
   ],
   "source": [
    "np.zeros(3)"
   ],
   "metadata": {
    "collapsed": false,
    "ExecuteTime": {
     "end_time": "2024-06-01T07:49:13.702247600Z",
     "start_time": "2024-06-01T07:49:13.676804300Z"
    }
   },
   "id": "a18c0c07750e356a"
  },
  {
   "cell_type": "code",
   "execution_count": 29,
   "outputs": [
    {
     "data": {
      "text/plain": "array([[0., 0., 0.],\n       [0., 0., 0.]])"
     },
     "execution_count": 29,
     "metadata": {},
     "output_type": "execute_result"
    }
   ],
   "source": [
    "np.zeros([2, 3])"
   ],
   "metadata": {
    "collapsed": false,
    "ExecuteTime": {
     "end_time": "2024-06-01T07:49:52.581002400Z",
     "start_time": "2024-06-01T07:49:52.555232300Z"
    }
   },
   "id": "c01cda4877f93f08"
  },
  {
   "cell_type": "markdown",
   "source": [
    "ones"
   ],
   "metadata": {
    "collapsed": false
   },
   "id": "8e005d9ed40e7989"
  },
  {
   "cell_type": "code",
   "execution_count": 30,
   "outputs": [
    {
     "data": {
      "text/plain": "array([1., 1.])"
     },
     "execution_count": 30,
     "metadata": {},
     "output_type": "execute_result"
    }
   ],
   "source": [
    "np.ones(2)"
   ],
   "metadata": {
    "collapsed": false,
    "ExecuteTime": {
     "end_time": "2024-06-01T07:50:26.517181400Z",
     "start_time": "2024-06-01T07:50:26.488832900Z"
    }
   },
   "id": "8dc5d94478b06ee1"
  },
  {
   "cell_type": "code",
   "execution_count": 32,
   "outputs": [
    {
     "data": {
      "text/plain": "array([[1., 1.],\n       [1., 1.]])"
     },
     "execution_count": 32,
     "metadata": {},
     "output_type": "execute_result"
    }
   ],
   "source": [
    "np.ones([2, 2])"
   ],
   "metadata": {
    "collapsed": false,
    "ExecuteTime": {
     "end_time": "2024-06-01T07:51:02.482471Z",
     "start_time": "2024-06-01T07:51:02.450963500Z"
    }
   },
   "id": "c1546ca23decd760"
  },
  {
   "cell_type": "markdown",
   "source": [
    "linspace"
   ],
   "metadata": {
    "collapsed": false
   },
   "id": "47559d7e432c0c17"
  },
  {
   "cell_type": "code",
   "execution_count": 33,
   "outputs": [
    {
     "data": {
      "text/plain": "array([ 0.,  5., 10.])"
     },
     "execution_count": 33,
     "metadata": {},
     "output_type": "execute_result"
    }
   ],
   "source": [
    "np.linspace(0, 10, 3)"
   ],
   "metadata": {
    "collapsed": false,
    "ExecuteTime": {
     "end_time": "2024-06-01T07:51:57.993221700Z",
     "start_time": "2024-06-01T07:51:57.967260200Z"
    }
   },
   "id": "9f9fe0c117a85c6b"
  },
  {
   "cell_type": "code",
   "execution_count": 34,
   "outputs": [
    {
     "data": {
      "text/plain": "array([ 0.        ,  0.20408163,  0.40816327,  0.6122449 ,  0.81632653,\n        1.02040816,  1.2244898 ,  1.42857143,  1.63265306,  1.83673469,\n        2.04081633,  2.24489796,  2.44897959,  2.65306122,  2.85714286,\n        3.06122449,  3.26530612,  3.46938776,  3.67346939,  3.87755102,\n        4.08163265,  4.28571429,  4.48979592,  4.69387755,  4.89795918,\n        5.10204082,  5.30612245,  5.51020408,  5.71428571,  5.91836735,\n        6.12244898,  6.32653061,  6.53061224,  6.73469388,  6.93877551,\n        7.14285714,  7.34693878,  7.55102041,  7.75510204,  7.95918367,\n        8.16326531,  8.36734694,  8.57142857,  8.7755102 ,  8.97959184,\n        9.18367347,  9.3877551 ,  9.59183673,  9.79591837, 10.        ])"
     },
     "execution_count": 34,
     "metadata": {},
     "output_type": "execute_result"
    }
   ],
   "source": [
    "np.linspace(0, 10, 50)"
   ],
   "metadata": {
    "collapsed": false,
    "ExecuteTime": {
     "end_time": "2024-06-01T07:52:33.474393200Z",
     "start_time": "2024-06-01T07:52:33.433014300Z"
    }
   },
   "id": "5bc0cb06dc21812d"
  },
  {
   "cell_type": "markdown",
   "source": [
    "### Podstawowe operacje na tablicach"
   ],
   "metadata": {
    "collapsed": false
   },
   "id": "64b76eaad8a12002"
  },
  {
   "cell_type": "code",
   "execution_count": 35,
   "outputs": [],
   "source": [
    "a = np.array([3, 4, 5, 6])\n",
    "b = np.array([-1, 3, 1, -2])"
   ],
   "metadata": {
    "collapsed": false,
    "ExecuteTime": {
     "end_time": "2024-06-01T07:53:58.958877900Z",
     "start_time": "2024-06-01T07:53:58.928923200Z"
    }
   },
   "id": "b268c3ad6834d865"
  },
  {
   "cell_type": "code",
   "execution_count": 36,
   "outputs": [
    {
     "name": "stdout",
     "output_type": "stream",
     "text": [
      "[3 4 5 6]\n",
      "[-1  3  1 -2]\n"
     ]
    }
   ],
   "source": [
    "print(a)\n",
    "print(b)"
   ],
   "metadata": {
    "collapsed": false,
    "ExecuteTime": {
     "end_time": "2024-06-01T07:54:25.784661500Z",
     "start_time": "2024-06-01T07:54:25.743704900Z"
    }
   },
   "id": "d25c255b80b55d5d"
  },
  {
   "cell_type": "code",
   "execution_count": 37,
   "outputs": [
    {
     "data": {
      "text/plain": "array([2, 7, 6, 4])"
     },
     "execution_count": 37,
     "metadata": {},
     "output_type": "execute_result"
    }
   ],
   "source": [
    "a + b"
   ],
   "metadata": {
    "collapsed": false,
    "ExecuteTime": {
     "end_time": "2024-06-01T07:54:48.904071200Z",
     "start_time": "2024-06-01T07:54:48.876658500Z"
    }
   },
   "id": "74abe00e0cbb210f"
  },
  {
   "cell_type": "code",
   "execution_count": 38,
   "outputs": [
    {
     "data": {
      "text/plain": "array([4, 1, 4, 8])"
     },
     "execution_count": 38,
     "metadata": {},
     "output_type": "execute_result"
    }
   ],
   "source": [
    "a - b"
   ],
   "metadata": {
    "collapsed": false,
    "ExecuteTime": {
     "end_time": "2024-06-01T07:55:26.648761200Z",
     "start_time": "2024-06-01T07:55:26.618361Z"
    }
   },
   "id": "d11b03c7085285f4"
  },
  {
   "cell_type": "code",
   "execution_count": 39,
   "outputs": [
    {
     "data": {
      "text/plain": "array([ -3,  12,   5, -12])"
     },
     "execution_count": 39,
     "metadata": {},
     "output_type": "execute_result"
    }
   ],
   "source": [
    "a * b"
   ],
   "metadata": {
    "collapsed": false,
    "ExecuteTime": {
     "end_time": "2024-06-01T07:55:59.517254400Z",
     "start_time": "2024-06-01T07:55:59.488994900Z"
    }
   },
   "id": "a0ea1f8e231e3a39"
  },
  {
   "cell_type": "code",
   "execution_count": 40,
   "outputs": [
    {
     "data": {
      "text/plain": "array([-3.        ,  1.33333333,  5.        , -3.        ])"
     },
     "execution_count": 40,
     "metadata": {},
     "output_type": "execute_result"
    }
   ],
   "source": [
    "a / b"
   ],
   "metadata": {
    "collapsed": false,
    "ExecuteTime": {
     "end_time": "2024-06-01T07:56:05.826015200Z",
     "start_time": "2024-06-01T07:56:05.782728400Z"
    }
   },
   "id": "4870ceb8d7d9d60e"
  },
  {
   "cell_type": "code",
   "execution_count": 41,
   "outputs": [
    {
     "data": {
      "text/plain": "array([4, 5, 6, 7])"
     },
     "execution_count": 41,
     "metadata": {},
     "output_type": "execute_result"
    }
   ],
   "source": [
    "a + 1"
   ],
   "metadata": {
    "collapsed": false,
    "ExecuteTime": {
     "end_time": "2024-06-01T07:56:11.252754600Z",
     "start_time": "2024-06-01T07:56:11.212720400Z"
    }
   },
   "id": "9ef186fbd1b4c0e4"
  },
  {
   "cell_type": "markdown",
   "source": [
    "### Generowanie liczb pseudolosowych"
   ],
   "metadata": {
    "collapsed": false
   },
   "id": "9ffe338073632a6e"
  },
  {
   "cell_type": "code",
   "execution_count": 42,
   "outputs": [],
   "source": [
    "np.random.seed(5)"
   ],
   "metadata": {
    "collapsed": false,
    "ExecuteTime": {
     "end_time": "2024-06-01T07:58:44.195691700Z",
     "start_time": "2024-06-01T07:58:44.159156600Z"
    }
   },
   "id": "ed2f5ff0a99c4a13"
  },
  {
   "cell_type": "markdown",
   "source": [
    "Rozkład normalny"
   ],
   "metadata": {
    "collapsed": false
   },
   "id": "feb56566968525fa"
  },
  {
   "cell_type": "code",
   "execution_count": 43,
   "outputs": [
    {
     "data": {
      "text/plain": "0.44122748688504143"
     },
     "execution_count": 43,
     "metadata": {},
     "output_type": "execute_result"
    }
   ],
   "source": [
    "np.random.randn()"
   ],
   "metadata": {
    "collapsed": false,
    "ExecuteTime": {
     "end_time": "2024-06-01T08:00:07.486696800Z",
     "start_time": "2024-06-01T08:00:07.457303200Z"
    }
   },
   "id": "f2ec724bee1996da"
  },
  {
   "cell_type": "markdown",
   "source": [
    "0 - 1"
   ],
   "metadata": {
    "collapsed": false
   },
   "id": "8f93581784ac6372"
  },
  {
   "cell_type": "code",
   "execution_count": 44,
   "outputs": [
    {
     "data": {
      "text/plain": "0.20671915533942642"
     },
     "execution_count": 44,
     "metadata": {},
     "output_type": "execute_result"
    }
   ],
   "source": [
    "np.random.rand()"
   ],
   "metadata": {
    "collapsed": false,
    "ExecuteTime": {
     "end_time": "2024-06-01T08:00:47.952012300Z",
     "start_time": "2024-06-01T08:00:47.921991600Z"
    }
   },
   "id": "1106243ca013070b"
  },
  {
   "cell_type": "code",
   "execution_count": 45,
   "outputs": [
    {
     "data": {
      "text/plain": "array([-0.33087015, -0.02330375,  0.84177767,  1.36758552,  0.57470769,\n       -1.88576241,  0.17092537, -0.40309331,  1.63762849, -0.60529785])"
     },
     "execution_count": 45,
     "metadata": {},
     "output_type": "execute_result"
    }
   ],
   "source": [
    "np.random.randn(10)"
   ],
   "metadata": {
    "collapsed": false,
    "ExecuteTime": {
     "end_time": "2024-06-01T08:01:30.425371500Z",
     "start_time": "2024-06-01T08:01:30.392626300Z"
    }
   },
   "id": "401fc79478cc1be2"
  },
  {
   "cell_type": "code",
   "execution_count": 46,
   "outputs": [
    {
     "data": {
      "text/plain": "array([0.29607993, 0.62878791, 0.57983781, 0.5999292 , 0.26581912,\n       0.28468588, 0.25358821, 0.32756395, 0.1441643 , 0.16561286])"
     },
     "execution_count": 46,
     "metadata": {},
     "output_type": "execute_result"
    }
   ],
   "source": [
    "np.random.rand(10)"
   ],
   "metadata": {
    "collapsed": false,
    "ExecuteTime": {
     "end_time": "2024-06-01T08:01:46.227197400Z",
     "start_time": "2024-06-01T08:01:46.197852Z"
    }
   },
   "id": "5416b2f80e1b5722"
  },
  {
   "cell_type": "markdown",
   "source": [
    "Losowanie liczba całkowitych"
   ],
   "metadata": {
    "collapsed": false
   },
   "id": "b22a1cbbb2442e1d"
  },
  {
   "cell_type": "code",
   "execution_count": 49,
   "outputs": [
    {
     "data": {
      "text/plain": "array([19, 16, 10, 15, 12, 18, 16, 18, 10, 15, 12, 10, 17, 17, 16, 10, 10,\n       18, 15, 15])"
     },
     "execution_count": 49,
     "metadata": {},
     "output_type": "execute_result"
    }
   ],
   "source": [
    "np.random.randint(10, 20, 20)"
   ],
   "metadata": {
    "collapsed": false,
    "ExecuteTime": {
     "end_time": "2024-06-01T08:03:02.561610100Z",
     "start_time": "2024-06-01T08:03:02.555095700Z"
    }
   },
   "id": "1363364d9f586071"
  },
  {
   "cell_type": "markdown",
   "source": [
    "mieszanie w tablicy"
   ],
   "metadata": {
    "collapsed": false
   },
   "id": "144cbe470a3edab4"
  },
  {
   "cell_type": "code",
   "execution_count": 51,
   "outputs": [
    {
     "data": {
      "text/plain": "array([1, 2, 3, 4, 5, 6])"
     },
     "execution_count": 51,
     "metadata": {},
     "output_type": "execute_result"
    }
   ],
   "source": [
    "c = np.array([1, 2, 3, 4, 5, 6])\n",
    "c"
   ],
   "metadata": {
    "collapsed": false,
    "ExecuteTime": {
     "end_time": "2024-06-01T08:04:11.132910200Z",
     "start_time": "2024-06-01T08:04:11.111881600Z"
    }
   },
   "id": "909289b29611dc0b"
  },
  {
   "cell_type": "code",
   "execution_count": 53,
   "outputs": [
    {
     "data": {
      "text/plain": "array([3, 2, 1, 5, 4, 6])"
     },
     "execution_count": 53,
     "metadata": {},
     "output_type": "execute_result"
    }
   ],
   "source": [
    "np.random.shuffle(c)\n",
    "c"
   ],
   "metadata": {
    "collapsed": false,
    "ExecuteTime": {
     "end_time": "2024-06-01T08:04:28.411324100Z",
     "start_time": "2024-06-01T08:04:28.371912200Z"
    }
   },
   "id": "171f4b1e247f5a31"
  },
  {
   "cell_type": "markdown",
   "source": [
    "Losowa wartość z tablicy"
   ],
   "metadata": {
    "collapsed": false
   },
   "id": "a3f5adc5cbed909a"
  },
  {
   "cell_type": "code",
   "execution_count": 54,
   "outputs": [
    {
     "data": {
      "text/plain": "'d'"
     },
     "execution_count": 54,
     "metadata": {},
     "output_type": "execute_result"
    }
   ],
   "source": [
    "np.random.choice(['a', 'b', 'c', 'd'])"
   ],
   "metadata": {
    "collapsed": false,
    "ExecuteTime": {
     "end_time": "2024-06-01T08:06:06.041194300Z",
     "start_time": "2024-06-01T08:06:05.999310700Z"
    }
   },
   "id": "77f48f9a91745bb"
  },
  {
   "cell_type": "code",
   "execution_count": null,
   "outputs": [],
   "source": [],
   "metadata": {
    "collapsed": false
   },
   "id": "75bca22cae4ecf21"
  }
 ],
 "metadata": {
  "kernelspec": {
   "display_name": "Python 3",
   "language": "python",
   "name": "python3"
  },
  "language_info": {
   "codemirror_mode": {
    "name": "ipython",
    "version": 2
   },
   "file_extension": ".py",
   "mimetype": "text/x-python",
   "name": "python",
   "nbconvert_exporter": "python",
   "pygments_lexer": "ipython2",
   "version": "2.7.6"
  }
 },
 "nbformat": 4,
 "nbformat_minor": 5
}
