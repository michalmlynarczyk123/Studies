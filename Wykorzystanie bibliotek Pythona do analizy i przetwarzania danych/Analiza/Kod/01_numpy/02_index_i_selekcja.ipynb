{
 "cells": [
  {
   "cell_type": "code",
   "execution_count": 1,
   "id": "initial_id",
   "metadata": {
    "collapsed": true,
    "ExecuteTime": {
     "end_time": "2024-06-01T08:32:05.197787900Z",
     "start_time": "2024-06-01T08:32:04.740507400Z"
    }
   },
   "outputs": [],
   "source": [
    "import numpy as np"
   ]
  },
  {
   "cell_type": "code",
   "execution_count": 2,
   "outputs": [
    {
     "data": {
      "text/plain": "array([ 1,  2,  3,  4,  5,  6,  7,  8,  9, 10, 11, 12, 13, 14, 15])"
     },
     "execution_count": 2,
     "metadata": {},
     "output_type": "execute_result"
    }
   ],
   "source": [
    "arr = np.arange(1, 16)\n",
    "arr"
   ],
   "metadata": {
    "collapsed": false,
    "ExecuteTime": {
     "end_time": "2024-06-01T08:32:43.436964100Z",
     "start_time": "2024-06-01T08:32:43.417732700Z"
    }
   },
   "id": "10f1cb87f33e6185"
  },
  {
   "cell_type": "markdown",
   "source": [
    "Wybór elementów po indeksie"
   ],
   "metadata": {
    "collapsed": false
   },
   "id": "5717207d5f03173b"
  },
  {
   "cell_type": "code",
   "execution_count": 3,
   "outputs": [
    {
     "data": {
      "text/plain": "3"
     },
     "execution_count": 3,
     "metadata": {},
     "output_type": "execute_result"
    }
   ],
   "source": [
    "arr[2]"
   ],
   "metadata": {
    "collapsed": false,
    "ExecuteTime": {
     "end_time": "2024-06-01T08:33:21.314897100Z",
     "start_time": "2024-06-01T08:33:21.307191900Z"
    }
   },
   "id": "d913b851a3775cc3"
  },
  {
   "cell_type": "markdown",
   "source": [
    "Wybór elementów w zakresie"
   ],
   "metadata": {
    "collapsed": false
   },
   "id": "202734636d2777e6"
  },
  {
   "cell_type": "code",
   "execution_count": 4,
   "outputs": [
    {
     "data": {
      "text/plain": "array([3, 4, 5])"
     },
     "execution_count": 4,
     "metadata": {},
     "output_type": "execute_result"
    }
   ],
   "source": [
    "arr[2:5]"
   ],
   "metadata": {
    "collapsed": false,
    "ExecuteTime": {
     "end_time": "2024-06-01T08:34:13.644975Z",
     "start_time": "2024-06-01T08:34:13.637154800Z"
    }
   },
   "id": "91806f023764273c"
  },
  {
   "cell_type": "code",
   "execution_count": 5,
   "outputs": [
    {
     "data": {
      "text/plain": "array([1, 2, 3, 4, 5, 6, 7, 8])"
     },
     "execution_count": 5,
     "metadata": {},
     "output_type": "execute_result"
    }
   ],
   "source": [
    "arr[:8]"
   ],
   "metadata": {
    "collapsed": false,
    "ExecuteTime": {
     "end_time": "2024-06-01T08:34:55.437109300Z",
     "start_time": "2024-06-01T08:34:55.428119500Z"
    }
   },
   "id": "568bf83a9044ed9"
  },
  {
   "cell_type": "markdown",
   "source": [
    "Przypisywanie nowej wartości"
   ],
   "metadata": {
    "collapsed": false
   },
   "id": "b8b3f8913ebee73e"
  },
  {
   "cell_type": "code",
   "execution_count": 6,
   "outputs": [
    {
     "data": {
      "text/plain": "array([100,   2,   3,   4,   5,   6,   7,   8,   9,  10,  11,  12,  13,\n        14,  15])"
     },
     "execution_count": 6,
     "metadata": {},
     "output_type": "execute_result"
    }
   ],
   "source": [
    "arr[0] = 100\n",
    "arr"
   ],
   "metadata": {
    "collapsed": false,
    "ExecuteTime": {
     "end_time": "2024-06-01T08:35:26.752503100Z",
     "start_time": "2024-06-01T08:35:26.744480100Z"
    }
   },
   "id": "31e63eb196ec566c"
  },
  {
   "cell_type": "code",
   "execution_count": 7,
   "outputs": [
    {
     "data": {
      "text/plain": "array([100,   2,   3,   4,   5,   6,   7,   8,   9,  10, 200, 200,  13,\n        14,  15])"
     },
     "execution_count": 7,
     "metadata": {},
     "output_type": "execute_result"
    }
   ],
   "source": [
    "arr[10:12] = 200\n",
    "arr"
   ],
   "metadata": {
    "collapsed": false,
    "ExecuteTime": {
     "end_time": "2024-06-01T08:36:02.610612900Z",
     "start_time": "2024-06-01T08:36:02.601780300Z"
    }
   },
   "id": "7f50e52b5503ec90"
  },
  {
   "cell_type": "markdown",
   "source": [
    "Tablica 2D"
   ],
   "metadata": {
    "collapsed": false
   },
   "id": "abe0f27b1c3255c1"
  },
  {
   "cell_type": "markdown",
   "source": [
    "Zmiana kształtu"
   ],
   "metadata": {
    "collapsed": false
   },
   "id": "25a0717dbd2b7620"
  },
  {
   "cell_type": "code",
   "execution_count": 8,
   "outputs": [
    {
     "data": {
      "text/plain": "array([[ 1,  2,  3,  4,  5],\n       [ 6,  7,  8,  9, 10],\n       [11, 12, 13, 14, 15]])"
     },
     "execution_count": 8,
     "metadata": {},
     "output_type": "execute_result"
    }
   ],
   "source": [
    "arr2d = np.arange(1, 16).reshape([3, 5])\n",
    "arr2d"
   ],
   "metadata": {
    "collapsed": false,
    "ExecuteTime": {
     "end_time": "2024-06-01T08:37:50.139651200Z",
     "start_time": "2024-06-01T08:37:50.120389300Z"
    }
   },
   "id": "5b67d875835b4b34"
  },
  {
   "cell_type": "code",
   "execution_count": 9,
   "outputs": [
    {
     "data": {
      "text/plain": "array([ 6,  7,  8,  9, 10])"
     },
     "execution_count": 9,
     "metadata": {},
     "output_type": "execute_result"
    }
   ],
   "source": [
    "arr2d[1]"
   ],
   "metadata": {
    "collapsed": false,
    "ExecuteTime": {
     "end_time": "2024-06-01T08:38:17.140405500Z",
     "start_time": "2024-06-01T08:38:17.111092200Z"
    }
   },
   "id": "ce6596665d3f9816"
  },
  {
   "cell_type": "code",
   "execution_count": 10,
   "outputs": [
    {
     "data": {
      "text/plain": "7"
     },
     "execution_count": 10,
     "metadata": {},
     "output_type": "execute_result"
    }
   ],
   "source": [
    "arr2d[1][1]"
   ],
   "metadata": {
    "collapsed": false,
    "ExecuteTime": {
     "end_time": "2024-06-01T08:38:33.656441Z",
     "start_time": "2024-06-01T08:38:33.646000200Z"
    }
   },
   "id": "4c5bd8dab322eb1e"
  },
  {
   "cell_type": "code",
   "execution_count": 11,
   "outputs": [
    {
     "data": {
      "text/plain": "array([[ 7,  8,  9],\n       [12, 13, 14]])"
     },
     "execution_count": 11,
     "metadata": {},
     "output_type": "execute_result"
    }
   ],
   "source": [
    "arr2d[1:, 1:4]"
   ],
   "metadata": {
    "collapsed": false,
    "ExecuteTime": {
     "end_time": "2024-06-01T08:39:31.318270300Z",
     "start_time": "2024-06-01T08:39:31.307222800Z"
    }
   },
   "id": "2fd66980e49a09df"
  },
  {
   "cell_type": "markdown",
   "source": [
    "Selekcja - maska logiczna"
   ],
   "metadata": {
    "collapsed": false
   },
   "id": "f49e46bcfd203a0a"
  },
  {
   "cell_type": "code",
   "execution_count": 14,
   "outputs": [
    {
     "data": {
      "text/plain": "array([[-0.43204548,  0.03697357, -0.50465649, -1.08399649,  1.21245481],\n       [ 1.08532552,  0.37869355,  0.4713245 ,  1.69767815, -0.54847249],\n       [ 0.49267193,  1.6274577 , -0.34607262,  0.77144662,  0.24208566]])"
     },
     "execution_count": 14,
     "metadata": {},
     "output_type": "execute_result"
    }
   ],
   "source": [
    "arr_rnd = np.random.randn(3, 5)\n",
    "arr_rnd"
   ],
   "metadata": {
    "collapsed": false,
    "ExecuteTime": {
     "end_time": "2024-06-01T08:42:54.502316200Z",
     "start_time": "2024-06-01T08:42:54.494708400Z"
    }
   },
   "id": "ffd969699c2e5980"
  },
  {
   "cell_type": "code",
   "execution_count": 15,
   "outputs": [
    {
     "data": {
      "text/plain": "array([[False,  True, False, False,  True],\n       [ True,  True,  True,  True, False],\n       [ True,  True, False,  True,  True]])"
     },
     "execution_count": 15,
     "metadata": {},
     "output_type": "execute_result"
    }
   ],
   "source": [
    "arr_rnd_bool = arr_rnd > 0\n",
    "arr_rnd_bool"
   ],
   "metadata": {
    "collapsed": false,
    "ExecuteTime": {
     "end_time": "2024-06-01T08:44:07.322311500Z",
     "start_time": "2024-06-01T08:44:07.303810900Z"
    }
   },
   "id": "e2d9e5f6d15e4965"
  },
  {
   "cell_type": "code",
   "execution_count": 20,
   "outputs": [
    {
     "data": {
      "text/plain": "array([0.03697357, 1.21245481, 1.08532552, 0.37869355, 0.4713245 ,\n       1.69767815, 0.49267193, 1.6274577 , 0.77144662, 0.24208566])"
     },
     "execution_count": 20,
     "metadata": {},
     "output_type": "execute_result"
    }
   ],
   "source": [
    "arr_rnd[arr_rnd_bool]"
   ],
   "metadata": {
    "collapsed": false,
    "ExecuteTime": {
     "end_time": "2024-06-01T09:11:18.957743800Z",
     "start_time": "2024-06-01T09:11:18.946965300Z"
    }
   },
   "id": "2ad9adaf9ddbbaa2"
  },
  {
   "cell_type": "code",
   "execution_count": 23,
   "outputs": [
    {
     "data": {
      "text/plain": "array([-0.43204548, -0.50465649, -1.08399649, -0.54847249, -0.34607262])"
     },
     "execution_count": 23,
     "metadata": {},
     "output_type": "execute_result"
    }
   ],
   "source": [
    "arr_rnd[arr_rnd < 0]"
   ],
   "metadata": {
    "collapsed": false,
    "ExecuteTime": {
     "end_time": "2024-06-01T09:11:23.704045200Z",
     "start_time": "2024-06-01T09:11:23.694090300Z"
    }
   },
   "id": "e7be5560e4eaa86d"
  },
  {
   "cell_type": "code",
   "execution_count": null,
   "outputs": [],
   "source": [],
   "metadata": {
    "collapsed": false
   },
   "id": "304dd640bd0150c0"
  }
 ],
 "metadata": {
  "kernelspec": {
   "display_name": "Python 3",
   "language": "python",
   "name": "python3"
  },
  "language_info": {
   "codemirror_mode": {
    "name": "ipython",
    "version": 2
   },
   "file_extension": ".py",
   "mimetype": "text/x-python",
   "name": "python",
   "nbconvert_exporter": "python",
   "pygments_lexer": "ipython2",
   "version": "2.7.6"
  }
 },
 "nbformat": 4,
 "nbformat_minor": 5
}
