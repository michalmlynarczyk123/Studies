{
 "cells": [
  {
   "cell_type": "code",
   "execution_count": 1,
   "id": "initial_id",
   "metadata": {
    "collapsed": true,
    "ExecuteTime": {
     "end_time": "2024-06-01T08:47:22.983647100Z",
     "start_time": "2024-06-01T08:47:22.831263100Z"
    }
   },
   "outputs": [],
   "source": [
    "import numpy as np"
   ]
  },
  {
   "cell_type": "markdown",
   "source": [
    "Pierwiastek"
   ],
   "metadata": {
    "collapsed": false
   },
   "id": "4a3daf0e955cce80"
  },
  {
   "cell_type": "code",
   "execution_count": 2,
   "outputs": [
    {
     "data": {
      "text/plain": "3.0"
     },
     "execution_count": 2,
     "metadata": {},
     "output_type": "execute_result"
    }
   ],
   "source": [
    "np.sqrt(9)"
   ],
   "metadata": {
    "collapsed": false,
    "ExecuteTime": {
     "end_time": "2024-06-01T08:47:38.182556100Z",
     "start_time": "2024-06-01T08:47:38.161931600Z"
    }
   },
   "id": "f90361cf94b8198a"
  },
  {
   "cell_type": "markdown",
   "source": [
    "Czy wszystkie wartości dają True"
   ],
   "metadata": {
    "collapsed": false
   },
   "id": "6a0fc95b0dd2c2e8"
  },
  {
   "cell_type": "code",
   "execution_count": 3,
   "outputs": [
    {
     "data": {
      "text/plain": "True"
     },
     "execution_count": 3,
     "metadata": {},
     "output_type": "execute_result"
    }
   ],
   "source": [
    "np.all([2, 3, 1])"
   ],
   "metadata": {
    "collapsed": false,
    "ExecuteTime": {
     "end_time": "2024-06-01T08:48:26.242415700Z",
     "start_time": "2024-06-01T08:48:26.219092500Z"
    }
   },
   "id": "e47ebdde0e18bd68"
  },
  {
   "cell_type": "code",
   "execution_count": 4,
   "outputs": [
    {
     "data": {
      "text/plain": "False"
     },
     "execution_count": 4,
     "metadata": {},
     "output_type": "execute_result"
    }
   ],
   "source": [
    "np.all([1, 2, 0])"
   ],
   "metadata": {
    "collapsed": false,
    "ExecuteTime": {
     "end_time": "2024-06-01T08:48:39.736408400Z",
     "start_time": "2024-06-01T08:48:39.723361100Z"
    }
   },
   "id": "682a8d4f45a39ef1"
  },
  {
   "cell_type": "markdown",
   "source": [
    "Czy któraś wartość daje True"
   ],
   "metadata": {
    "collapsed": false
   },
   "id": "f2961b81a02dc717"
  },
  {
   "cell_type": "code",
   "execution_count": 6,
   "outputs": [
    {
     "data": {
      "text/plain": "True"
     },
     "execution_count": 6,
     "metadata": {},
     "output_type": "execute_result"
    }
   ],
   "source": [
    "np.any([1, 2, 0])"
   ],
   "metadata": {
    "collapsed": false,
    "ExecuteTime": {
     "end_time": "2024-06-01T08:49:25.732062700Z",
     "start_time": "2024-06-01T08:49:25.671116900Z"
    }
   },
   "id": "9940a9b7c3a0d825"
  },
  {
   "cell_type": "code",
   "execution_count": 7,
   "outputs": [
    {
     "data": {
      "text/plain": "array([ 0.44122749, -0.33087015,  2.43077119, -0.25209213,  0.10960984,\n        1.58248112, -0.9092324 , -0.59163666,  0.18760323, -0.32986996,\n       -1.19276461, -0.20487651, -0.35882895,  0.6034716 , -1.66478853,\n       -0.70017904,  1.15139101,  1.85733101, -1.51117956,  0.64484751])"
     },
     "execution_count": 7,
     "metadata": {},
     "output_type": "execute_result"
    }
   ],
   "source": [
    "np.random.seed(5)\n",
    "arr = np.random.randn(20)\n",
    "arr"
   ],
   "metadata": {
    "collapsed": false,
    "ExecuteTime": {
     "end_time": "2024-06-01T08:50:10.881358900Z",
     "start_time": "2024-06-01T08:50:10.864444100Z"
    }
   },
   "id": "b792433078dcbe6c"
  },
  {
   "cell_type": "markdown",
   "source": [
    "wartość maksymalna"
   ],
   "metadata": {
    "collapsed": false
   },
   "id": "ca512535a34d7a9f"
  },
  {
   "cell_type": "code",
   "execution_count": 10,
   "outputs": [
    {
     "data": {
      "text/plain": "2.43077118700778"
     },
     "execution_count": 10,
     "metadata": {},
     "output_type": "execute_result"
    }
   ],
   "source": [
    "arr.max()"
   ],
   "metadata": {
    "collapsed": false,
    "ExecuteTime": {
     "end_time": "2024-06-01T08:52:55.768787Z",
     "start_time": "2024-06-01T08:52:55.748643800Z"
    }
   },
   "id": "d7cd45f2bcfda9c5"
  },
  {
   "cell_type": "markdown",
   "source": [
    "wartość minimalna"
   ],
   "metadata": {
    "collapsed": false
   },
   "id": "6772f7595585be16"
  },
  {
   "cell_type": "code",
   "execution_count": 11,
   "outputs": [
    {
     "data": {
      "text/plain": "-1.6647885294716944"
     },
     "execution_count": 11,
     "metadata": {},
     "output_type": "execute_result"
    }
   ],
   "source": [
    "arr.min()"
   ],
   "metadata": {
    "collapsed": false,
    "ExecuteTime": {
     "end_time": "2024-06-01T08:53:07.552141900Z",
     "start_time": "2024-06-01T08:53:07.540398500Z"
    }
   },
   "id": "3a593c1707a0b2f1"
  },
  {
   "cell_type": "code",
   "execution_count": 12,
   "outputs": [
    {
     "data": {
      "text/plain": "14"
     },
     "execution_count": 12,
     "metadata": {},
     "output_type": "execute_result"
    }
   ],
   "source": [
    "arr.argmin()"
   ],
   "metadata": {
    "collapsed": false,
    "ExecuteTime": {
     "end_time": "2024-06-01T08:53:17.197727300Z",
     "start_time": "2024-06-01T08:53:17.174287100Z"
    }
   },
   "id": "c8a3522c74dde692"
  },
  {
   "cell_type": "code",
   "execution_count": 13,
   "outputs": [
    {
     "data": {
      "text/plain": "2"
     },
     "execution_count": 13,
     "metadata": {},
     "output_type": "execute_result"
    }
   ],
   "source": [
    "arr.argmax()"
   ],
   "metadata": {
    "collapsed": false,
    "ExecuteTime": {
     "end_time": "2024-06-01T08:53:24.368612400Z",
     "start_time": "2024-06-01T08:53:24.343820900Z"
    }
   },
   "id": "a13b6082bd512398"
  },
  {
   "cell_type": "markdown",
   "source": [
    "Średnia"
   ],
   "metadata": {
    "collapsed": false
   },
   "id": "a010fa216aaf517d"
  },
  {
   "cell_type": "code",
   "execution_count": 15,
   "outputs": [
    {
     "data": {
      "text/plain": "0.04812077458333282"
     },
     "execution_count": 15,
     "metadata": {},
     "output_type": "execute_result"
    }
   ],
   "source": [
    "np.mean(arr)"
   ],
   "metadata": {
    "collapsed": false,
    "ExecuteTime": {
     "end_time": "2024-06-01T08:54:13.563322700Z",
     "start_time": "2024-06-01T08:54:13.555198500Z"
    }
   },
   "id": "e3c36c8a759c74cc"
  },
  {
   "cell_type": "markdown",
   "source": [
    "Mediana"
   ],
   "metadata": {
    "collapsed": false
   },
   "id": "bbb2fbbb2f4e2432"
  },
  {
   "cell_type": "code",
   "execution_count": 16,
   "outputs": [
    {
     "data": {
      "text/plain": "-0.2284843200953321"
     },
     "execution_count": 16,
     "metadata": {},
     "output_type": "execute_result"
    }
   ],
   "source": [
    "np.median(arr)"
   ],
   "metadata": {
    "collapsed": false,
    "ExecuteTime": {
     "end_time": "2024-06-01T08:54:28.743802300Z",
     "start_time": "2024-06-01T08:54:28.723661400Z"
    }
   },
   "id": "3cc82b835f66a943"
  },
  {
   "cell_type": "markdown",
   "source": [
    "Odchylenie standardowe"
   ],
   "metadata": {
    "collapsed": false
   },
   "id": "183a2c9dace9b5b5"
  },
  {
   "cell_type": "code",
   "execution_count": 17,
   "outputs": [
    {
     "data": {
      "text/plain": "1.0668011122987466"
     },
     "execution_count": 17,
     "metadata": {},
     "output_type": "execute_result"
    }
   ],
   "source": [
    "np.std(arr)"
   ],
   "metadata": {
    "collapsed": false,
    "ExecuteTime": {
     "end_time": "2024-06-01T08:55:06.343747Z",
     "start_time": "2024-06-01T08:55:06.321688900Z"
    }
   },
   "id": "3ec38583b3d122bf"
  },
  {
   "cell_type": "markdown",
   "source": [
    "Suma"
   ],
   "metadata": {
    "collapsed": false
   },
   "id": "f23c8b50429d7ead"
  },
  {
   "cell_type": "code",
   "execution_count": 18,
   "outputs": [
    {
     "data": {
      "text/plain": "0.9624154916666564"
     },
     "execution_count": 18,
     "metadata": {},
     "output_type": "execute_result"
    }
   ],
   "source": [
    "np.sum(arr)"
   ],
   "metadata": {
    "collapsed": false,
    "ExecuteTime": {
     "end_time": "2024-06-01T08:55:19.702210300Z",
     "start_time": "2024-06-01T08:55:19.679337700Z"
    }
   },
   "id": "476f119fe597249"
  },
  {
   "cell_type": "code",
   "execution_count": null,
   "outputs": [],
   "source": [],
   "metadata": {
    "collapsed": false
   },
   "id": "c15f358e3a7f35bd"
  }
 ],
 "metadata": {
  "kernelspec": {
   "display_name": "Python 3",
   "language": "python",
   "name": "python3"
  },
  "language_info": {
   "codemirror_mode": {
    "name": "ipython",
    "version": 2
   },
   "file_extension": ".py",
   "mimetype": "text/x-python",
   "name": "python",
   "nbconvert_exporter": "python",
   "pygments_lexer": "ipython2",
   "version": "2.7.6"
  }
 },
 "nbformat": 4,
 "nbformat_minor": 5
}
