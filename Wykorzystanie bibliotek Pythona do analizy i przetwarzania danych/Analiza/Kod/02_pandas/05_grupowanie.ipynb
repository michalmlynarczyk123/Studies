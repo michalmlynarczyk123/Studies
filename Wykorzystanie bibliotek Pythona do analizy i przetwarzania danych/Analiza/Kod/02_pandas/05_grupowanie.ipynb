{
 "cells": [
  {
   "cell_type": "code",
   "execution_count": 1,
   "id": "initial_id",
   "metadata": {
    "collapsed": true,
    "ExecuteTime": {
     "end_time": "2024-06-01T12:24:16.227563700Z",
     "start_time": "2024-06-01T12:24:15.615415500Z"
    }
   },
   "outputs": [],
   "source": [
    "import pandas as pd"
   ]
  },
  {
   "cell_type": "code",
   "execution_count": 2,
   "outputs": [
    {
     "data": {
      "text/plain": "    user_id  product_id product_name        date  quantity  unit_price\n0       101           1       Laptop  2023-08-08         2        1200\n1       102           3   Smartphone  2023-08-08         1         800\n2       103           2   Headphones  2023-08-08         3          50\n3       101           4     Keyboard  2023-08-09         1          80\n4       104           5        Mouse  2023-08-09         2          20\n5       105           6      Monitor  2023-08-10         1         250\n6       102           2   Headphones  2023-08-11         2          50\n7       106           1       Laptop  2023-08-12         1        1200\n8       107           4     Keyboard  2023-08-12         1          80\n9       103           6      Monitor  2023-08-13         2         250\n10      105           3   Smartphone  2023-08-14         1         800\n11      108           5        Mouse  2023-08-14         1          20\n12      109           1       Laptop  2023-08-15         2        1200\n13      110           3   Smartphone  2023-08-15         1         800",
      "text/html": "<div>\n<style scoped>\n    .dataframe tbody tr th:only-of-type {\n        vertical-align: middle;\n    }\n\n    .dataframe tbody tr th {\n        vertical-align: top;\n    }\n\n    .dataframe thead th {\n        text-align: right;\n    }\n</style>\n<table border=\"1\" class=\"dataframe\">\n  <thead>\n    <tr style=\"text-align: right;\">\n      <th></th>\n      <th>user_id</th>\n      <th>product_id</th>\n      <th>product_name</th>\n      <th>date</th>\n      <th>quantity</th>\n      <th>unit_price</th>\n    </tr>\n  </thead>\n  <tbody>\n    <tr>\n      <th>0</th>\n      <td>101</td>\n      <td>1</td>\n      <td>Laptop</td>\n      <td>2023-08-08</td>\n      <td>2</td>\n      <td>1200</td>\n    </tr>\n    <tr>\n      <th>1</th>\n      <td>102</td>\n      <td>3</td>\n      <td>Smartphone</td>\n      <td>2023-08-08</td>\n      <td>1</td>\n      <td>800</td>\n    </tr>\n    <tr>\n      <th>2</th>\n      <td>103</td>\n      <td>2</td>\n      <td>Headphones</td>\n      <td>2023-08-08</td>\n      <td>3</td>\n      <td>50</td>\n    </tr>\n    <tr>\n      <th>3</th>\n      <td>101</td>\n      <td>4</td>\n      <td>Keyboard</td>\n      <td>2023-08-09</td>\n      <td>1</td>\n      <td>80</td>\n    </tr>\n    <tr>\n      <th>4</th>\n      <td>104</td>\n      <td>5</td>\n      <td>Mouse</td>\n      <td>2023-08-09</td>\n      <td>2</td>\n      <td>20</td>\n    </tr>\n    <tr>\n      <th>5</th>\n      <td>105</td>\n      <td>6</td>\n      <td>Monitor</td>\n      <td>2023-08-10</td>\n      <td>1</td>\n      <td>250</td>\n    </tr>\n    <tr>\n      <th>6</th>\n      <td>102</td>\n      <td>2</td>\n      <td>Headphones</td>\n      <td>2023-08-11</td>\n      <td>2</td>\n      <td>50</td>\n    </tr>\n    <tr>\n      <th>7</th>\n      <td>106</td>\n      <td>1</td>\n      <td>Laptop</td>\n      <td>2023-08-12</td>\n      <td>1</td>\n      <td>1200</td>\n    </tr>\n    <tr>\n      <th>8</th>\n      <td>107</td>\n      <td>4</td>\n      <td>Keyboard</td>\n      <td>2023-08-12</td>\n      <td>1</td>\n      <td>80</td>\n    </tr>\n    <tr>\n      <th>9</th>\n      <td>103</td>\n      <td>6</td>\n      <td>Monitor</td>\n      <td>2023-08-13</td>\n      <td>2</td>\n      <td>250</td>\n    </tr>\n    <tr>\n      <th>10</th>\n      <td>105</td>\n      <td>3</td>\n      <td>Smartphone</td>\n      <td>2023-08-14</td>\n      <td>1</td>\n      <td>800</td>\n    </tr>\n    <tr>\n      <th>11</th>\n      <td>108</td>\n      <td>5</td>\n      <td>Mouse</td>\n      <td>2023-08-14</td>\n      <td>1</td>\n      <td>20</td>\n    </tr>\n    <tr>\n      <th>12</th>\n      <td>109</td>\n      <td>1</td>\n      <td>Laptop</td>\n      <td>2023-08-15</td>\n      <td>2</td>\n      <td>1200</td>\n    </tr>\n    <tr>\n      <th>13</th>\n      <td>110</td>\n      <td>3</td>\n      <td>Smartphone</td>\n      <td>2023-08-15</td>\n      <td>1</td>\n      <td>800</td>\n    </tr>\n  </tbody>\n</table>\n</div>"
     },
     "execution_count": 2,
     "metadata": {},
     "output_type": "execute_result"
    }
   ],
   "source": [
    "df_shopping = pd.read_csv('../../Pliki/02_pandas/shopping.csv')\n",
    "df_shopping"
   ],
   "metadata": {
    "collapsed": false,
    "ExecuteTime": {
     "end_time": "2024-06-01T12:25:24.037251200Z",
     "start_time": "2024-06-01T12:25:24.017308900Z"
    }
   },
   "id": "73e7da71408179d5"
  },
  {
   "cell_type": "code",
   "execution_count": 3,
   "outputs": [
    {
     "data": {
      "text/plain": "    user_id  product_id product_name        date  quantity  unit_price  \\\n0       101           1       Laptop  2023-08-08         2        1200   \n1       102           3   Smartphone  2023-08-08         1         800   \n2       103           2   Headphones  2023-08-08         3          50   \n3       101           4     Keyboard  2023-08-09         1          80   \n4       104           5        Mouse  2023-08-09         2          20   \n5       105           6      Monitor  2023-08-10         1         250   \n6       102           2   Headphones  2023-08-11         2          50   \n7       106           1       Laptop  2023-08-12         1        1200   \n8       107           4     Keyboard  2023-08-12         1          80   \n9       103           6      Monitor  2023-08-13         2         250   \n10      105           3   Smartphone  2023-08-14         1         800   \n11      108           5        Mouse  2023-08-14         1          20   \n12      109           1       Laptop  2023-08-15         2        1200   \n13      110           3   Smartphone  2023-08-15         1         800   \n\n    total_price  \n0          2400  \n1           800  \n2           150  \n3            80  \n4            40  \n5           250  \n6           100  \n7          1200  \n8            80  \n9           500  \n10          800  \n11           20  \n12         2400  \n13          800  ",
      "text/html": "<div>\n<style scoped>\n    .dataframe tbody tr th:only-of-type {\n        vertical-align: middle;\n    }\n\n    .dataframe tbody tr th {\n        vertical-align: top;\n    }\n\n    .dataframe thead th {\n        text-align: right;\n    }\n</style>\n<table border=\"1\" class=\"dataframe\">\n  <thead>\n    <tr style=\"text-align: right;\">\n      <th></th>\n      <th>user_id</th>\n      <th>product_id</th>\n      <th>product_name</th>\n      <th>date</th>\n      <th>quantity</th>\n      <th>unit_price</th>\n      <th>total_price</th>\n    </tr>\n  </thead>\n  <tbody>\n    <tr>\n      <th>0</th>\n      <td>101</td>\n      <td>1</td>\n      <td>Laptop</td>\n      <td>2023-08-08</td>\n      <td>2</td>\n      <td>1200</td>\n      <td>2400</td>\n    </tr>\n    <tr>\n      <th>1</th>\n      <td>102</td>\n      <td>3</td>\n      <td>Smartphone</td>\n      <td>2023-08-08</td>\n      <td>1</td>\n      <td>800</td>\n      <td>800</td>\n    </tr>\n    <tr>\n      <th>2</th>\n      <td>103</td>\n      <td>2</td>\n      <td>Headphones</td>\n      <td>2023-08-08</td>\n      <td>3</td>\n      <td>50</td>\n      <td>150</td>\n    </tr>\n    <tr>\n      <th>3</th>\n      <td>101</td>\n      <td>4</td>\n      <td>Keyboard</td>\n      <td>2023-08-09</td>\n      <td>1</td>\n      <td>80</td>\n      <td>80</td>\n    </tr>\n    <tr>\n      <th>4</th>\n      <td>104</td>\n      <td>5</td>\n      <td>Mouse</td>\n      <td>2023-08-09</td>\n      <td>2</td>\n      <td>20</td>\n      <td>40</td>\n    </tr>\n    <tr>\n      <th>5</th>\n      <td>105</td>\n      <td>6</td>\n      <td>Monitor</td>\n      <td>2023-08-10</td>\n      <td>1</td>\n      <td>250</td>\n      <td>250</td>\n    </tr>\n    <tr>\n      <th>6</th>\n      <td>102</td>\n      <td>2</td>\n      <td>Headphones</td>\n      <td>2023-08-11</td>\n      <td>2</td>\n      <td>50</td>\n      <td>100</td>\n    </tr>\n    <tr>\n      <th>7</th>\n      <td>106</td>\n      <td>1</td>\n      <td>Laptop</td>\n      <td>2023-08-12</td>\n      <td>1</td>\n      <td>1200</td>\n      <td>1200</td>\n    </tr>\n    <tr>\n      <th>8</th>\n      <td>107</td>\n      <td>4</td>\n      <td>Keyboard</td>\n      <td>2023-08-12</td>\n      <td>1</td>\n      <td>80</td>\n      <td>80</td>\n    </tr>\n    <tr>\n      <th>9</th>\n      <td>103</td>\n      <td>6</td>\n      <td>Monitor</td>\n      <td>2023-08-13</td>\n      <td>2</td>\n      <td>250</td>\n      <td>500</td>\n    </tr>\n    <tr>\n      <th>10</th>\n      <td>105</td>\n      <td>3</td>\n      <td>Smartphone</td>\n      <td>2023-08-14</td>\n      <td>1</td>\n      <td>800</td>\n      <td>800</td>\n    </tr>\n    <tr>\n      <th>11</th>\n      <td>108</td>\n      <td>5</td>\n      <td>Mouse</td>\n      <td>2023-08-14</td>\n      <td>1</td>\n      <td>20</td>\n      <td>20</td>\n    </tr>\n    <tr>\n      <th>12</th>\n      <td>109</td>\n      <td>1</td>\n      <td>Laptop</td>\n      <td>2023-08-15</td>\n      <td>2</td>\n      <td>1200</td>\n      <td>2400</td>\n    </tr>\n    <tr>\n      <th>13</th>\n      <td>110</td>\n      <td>3</td>\n      <td>Smartphone</td>\n      <td>2023-08-15</td>\n      <td>1</td>\n      <td>800</td>\n      <td>800</td>\n    </tr>\n  </tbody>\n</table>\n</div>"
     },
     "execution_count": 3,
     "metadata": {},
     "output_type": "execute_result"
    }
   ],
   "source": [
    "df_shopping['total_price'] = df_shopping['quantity'] * df_shopping['unit_price']\n",
    "df_shopping"
   ],
   "metadata": {
    "collapsed": false,
    "ExecuteTime": {
     "end_time": "2024-06-01T12:28:13.410315800Z",
     "start_time": "2024-06-01T12:28:13.381801600Z"
    }
   },
   "id": "ed4d4b20a857eb56"
  },
  {
   "cell_type": "markdown",
   "source": [
    "Ile użytkownik wydał u nas"
   ],
   "metadata": {
    "collapsed": false
   },
   "id": "18f9bee584b191a5"
  },
  {
   "cell_type": "code",
   "execution_count": 4,
   "outputs": [
    {
     "data": {
      "text/plain": "user_id\n101    2480\n102     900\n103     650\n104      40\n105    1050\n106    1200\n107      80\n108      20\n109    2400\n110     800\nName: total_price, dtype: int64"
     },
     "execution_count": 4,
     "metadata": {},
     "output_type": "execute_result"
    }
   ],
   "source": [
    "df_shopping.groupby('user_id')['total_price'].sum()"
   ],
   "metadata": {
    "collapsed": false,
    "ExecuteTime": {
     "end_time": "2024-06-01T12:30:49.486881200Z",
     "start_time": "2024-06-01T12:30:49.462876600Z"
    }
   },
   "id": "7dc1c7bc4396a5b"
  },
  {
   "cell_type": "markdown",
   "source": [
    "Jaki jest dzień z największym utargiem"
   ],
   "metadata": {
    "collapsed": false
   },
   "id": "fd773af40566681"
  },
  {
   "cell_type": "code",
   "execution_count": 6,
   "outputs": [
    {
     "data": {
      "text/plain": "date\n2023-08-08    3350\n2023-08-09     120\n2023-08-10     250\n2023-08-11     100\n2023-08-12    1280\n2023-08-13     500\n2023-08-14     820\n2023-08-15    3200\nName: total_price, dtype: int64"
     },
     "execution_count": 6,
     "metadata": {},
     "output_type": "execute_result"
    }
   ],
   "source": [
    "df_shopping.groupby('date')['total_price'].sum()"
   ],
   "metadata": {
    "collapsed": false,
    "ExecuteTime": {
     "end_time": "2024-06-01T12:32:49.172372300Z",
     "start_time": "2024-06-01T12:32:49.153539Z"
    }
   },
   "id": "5528cfcbe0c2ea0f"
  },
  {
   "cell_type": "markdown",
   "source": [
    "Grupowanie po kilku kolumnach"
   ],
   "metadata": {
    "collapsed": false
   },
   "id": "3cf60266094c4c7e"
  },
  {
   "cell_type": "code",
   "execution_count": 8,
   "outputs": [
    {
     "data": {
      "text/plain": "date        product_name\n2023-08-08  Headphones       150\n            Laptop          2400\n            Smartphone       800\n2023-08-09  Keyboard          80\n            Mouse             40\n2023-08-10  Monitor          250\n2023-08-11  Headphones       100\n2023-08-12  Keyboard          80\n            Laptop          1200\n2023-08-13  Monitor          500\n2023-08-14  Mouse             20\n            Smartphone       800\n2023-08-15  Laptop          2400\n            Smartphone       800\nName: total_price, dtype: int64"
     },
     "execution_count": 8,
     "metadata": {},
     "output_type": "execute_result"
    }
   ],
   "source": [
    "df_shopping.groupby(['date', 'product_name'])['total_price'].sum()"
   ],
   "metadata": {
    "collapsed": false,
    "ExecuteTime": {
     "end_time": "2024-06-01T12:35:27.652755300Z",
     "start_time": "2024-06-01T12:35:27.641853300Z"
    }
   },
   "id": "d1ddcd7e1af5c127"
  },
  {
   "cell_type": "markdown",
   "source": [
    "Dzienna sprzedaż - zamówienie minimalne i maksymalne"
   ],
   "metadata": {
    "collapsed": false
   },
   "id": "5b0bae13f75c7a51"
  },
  {
   "cell_type": "code",
   "execution_count": 10,
   "outputs": [
    {
     "data": {
      "text/plain": "            min   max\ndate                 \n2023-08-08  150  2400\n2023-08-09   40    80\n2023-08-10  250   250\n2023-08-11  100   100\n2023-08-12   80  1200\n2023-08-13  500   500\n2023-08-14   20   800\n2023-08-15  800  2400",
      "text/html": "<div>\n<style scoped>\n    .dataframe tbody tr th:only-of-type {\n        vertical-align: middle;\n    }\n\n    .dataframe tbody tr th {\n        vertical-align: top;\n    }\n\n    .dataframe thead th {\n        text-align: right;\n    }\n</style>\n<table border=\"1\" class=\"dataframe\">\n  <thead>\n    <tr style=\"text-align: right;\">\n      <th></th>\n      <th>min</th>\n      <th>max</th>\n    </tr>\n    <tr>\n      <th>date</th>\n      <th></th>\n      <th></th>\n    </tr>\n  </thead>\n  <tbody>\n    <tr>\n      <th>2023-08-08</th>\n      <td>150</td>\n      <td>2400</td>\n    </tr>\n    <tr>\n      <th>2023-08-09</th>\n      <td>40</td>\n      <td>80</td>\n    </tr>\n    <tr>\n      <th>2023-08-10</th>\n      <td>250</td>\n      <td>250</td>\n    </tr>\n    <tr>\n      <th>2023-08-11</th>\n      <td>100</td>\n      <td>100</td>\n    </tr>\n    <tr>\n      <th>2023-08-12</th>\n      <td>80</td>\n      <td>1200</td>\n    </tr>\n    <tr>\n      <th>2023-08-13</th>\n      <td>500</td>\n      <td>500</td>\n    </tr>\n    <tr>\n      <th>2023-08-14</th>\n      <td>20</td>\n      <td>800</td>\n    </tr>\n    <tr>\n      <th>2023-08-15</th>\n      <td>800</td>\n      <td>2400</td>\n    </tr>\n  </tbody>\n</table>\n</div>"
     },
     "execution_count": 10,
     "metadata": {},
     "output_type": "execute_result"
    }
   ],
   "source": [
    "df_shopping.groupby('date')['total_price'].aggregate(['min', 'max'])"
   ],
   "metadata": {
    "collapsed": false,
    "ExecuteTime": {
     "end_time": "2024-06-01T12:39:47.808724200Z",
     "start_time": "2024-06-01T12:39:47.789942500Z"
    }
   },
   "id": "c0be58b99c51ada2"
  },
  {
   "cell_type": "code",
   "execution_count": null,
   "outputs": [],
   "source": [],
   "metadata": {
    "collapsed": false
   },
   "id": "2c8d061e23466298"
  }
 ],
 "metadata": {
  "kernelspec": {
   "display_name": "Python 3",
   "language": "python",
   "name": "python3"
  },
  "language_info": {
   "codemirror_mode": {
    "name": "ipython",
    "version": 2
   },
   "file_extension": ".py",
   "mimetype": "text/x-python",
   "name": "python",
   "nbconvert_exporter": "python",
   "pygments_lexer": "ipython2",
   "version": "2.7.6"
  }
 },
 "nbformat": 4,
 "nbformat_minor": 5
}
