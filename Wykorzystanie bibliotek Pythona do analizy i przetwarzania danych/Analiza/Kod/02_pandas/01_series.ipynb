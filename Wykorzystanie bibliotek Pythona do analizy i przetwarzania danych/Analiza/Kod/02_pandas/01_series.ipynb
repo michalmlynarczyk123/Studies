{
 "cells": [
  {
   "cell_type": "markdown",
   "source": [
    "Import biblioteki pandas"
   ],
   "metadata": {
    "collapsed": false
   },
   "id": "ad947098510ca81c"
  },
  {
   "cell_type": "code",
   "execution_count": 1,
   "outputs": [],
   "source": [
    "import numpy as np"
   ],
   "metadata": {
    "collapsed": false,
    "ExecuteTime": {
     "end_time": "2024-06-01T10:10:35.909589100Z",
     "start_time": "2024-06-01T10:10:35.768860500Z"
    }
   },
   "id": "44eccb45f15e5dbc"
  },
  {
   "cell_type": "code",
   "execution_count": 2,
   "outputs": [],
   "source": [
    "import pandas as pd"
   ],
   "metadata": {
    "collapsed": false,
    "ExecuteTime": {
     "end_time": "2024-06-01T10:10:44.314665200Z",
     "start_time": "2024-06-01T10:10:43.803848600Z"
    }
   },
   "id": "2792f0a09904086"
  },
  {
   "cell_type": "markdown",
   "source": [
    "Tworzenie serii"
   ],
   "metadata": {
    "collapsed": false
   },
   "id": "a4de416a83e08d17"
  },
  {
   "cell_type": "code",
   "execution_count": 3,
   "outputs": [
    {
     "data": {
      "text/plain": "0    1\n1    2\n2    3\ndtype: int64"
     },
     "execution_count": 3,
     "metadata": {},
     "output_type": "execute_result"
    }
   ],
   "source": [
    "pd.Series([1, 2, 3])"
   ],
   "metadata": {
    "collapsed": false,
    "ExecuteTime": {
     "end_time": "2024-06-01T10:11:29.869075300Z",
     "start_time": "2024-06-01T10:11:29.854933100Z"
    }
   },
   "id": "43402b25a2f676df"
  },
  {
   "cell_type": "code",
   "execution_count": 4,
   "outputs": [
    {
     "data": {
      "text/plain": "a    1\na    2\nc    3\ndtype: int64"
     },
     "execution_count": 4,
     "metadata": {},
     "output_type": "execute_result"
    }
   ],
   "source": [
    "pd.Series([1, 2, 3], ['a', 'a', 'c'])"
   ],
   "metadata": {
    "collapsed": false,
    "ExecuteTime": {
     "end_time": "2024-06-01T10:12:44.903275Z",
     "start_time": "2024-06-01T10:12:44.869614600Z"
    }
   },
   "id": "f7bab7813235c31"
  },
  {
   "cell_type": "code",
   "execution_count": 5,
   "outputs": [
    {
     "data": {
      "text/plain": "d    4\ne    5\nf    6\ndtype: int64"
     },
     "execution_count": 5,
     "metadata": {},
     "output_type": "execute_result"
    }
   ],
   "source": [
    "pd.Series({'d': 4, 'e': 5, 'f': 6})"
   ],
   "metadata": {
    "collapsed": false,
    "ExecuteTime": {
     "end_time": "2024-06-01T10:13:54.922291300Z",
     "start_time": "2024-06-01T10:13:54.914132900Z"
    }
   },
   "id": "d3a8fc1466afd02c"
  },
  {
   "cell_type": "markdown",
   "source": [
    "Nazwa serii"
   ],
   "metadata": {
    "collapsed": false
   },
   "id": "b1ef23f637cbac1e"
  },
  {
   "cell_type": "code",
   "execution_count": 6,
   "outputs": [
    {
     "data": {
      "text/plain": "0    1\n1    2\n2    3\nName: cyfry, dtype: int64"
     },
     "execution_count": 6,
     "metadata": {},
     "output_type": "execute_result"
    }
   ],
   "source": [
    "pd.Series([1, 2, 3], name='cyfry')"
   ],
   "metadata": {
    "collapsed": false,
    "ExecuteTime": {
     "end_time": "2024-06-01T10:14:28.710935400Z",
     "start_time": "2024-06-01T10:14:28.662898500Z"
    }
   },
   "id": "a6b35ce94b9d6937"
  },
  {
   "cell_type": "code",
   "execution_count": 7,
   "outputs": [
    {
     "data": {
      "text/plain": "0    1\n1    2\n2    3\ndtype: int32"
     },
     "execution_count": 7,
     "metadata": {},
     "output_type": "execute_result"
    }
   ],
   "source": [
    "arr = np.array([1, 2, 3])\n",
    "pd.Series(arr)"
   ],
   "metadata": {
    "collapsed": false,
    "ExecuteTime": {
     "end_time": "2024-06-01T10:16:10.937898100Z",
     "start_time": "2024-06-01T10:16:10.928363800Z"
    }
   },
   "id": "caf8a44a428e452b"
  },
  {
   "cell_type": "markdown",
   "source": [
    "Proste operacje na serii"
   ],
   "metadata": {
    "collapsed": false
   },
   "id": "5a42c3f54797ddb8"
  },
  {
   "cell_type": "code",
   "execution_count": 8,
   "outputs": [
    {
     "data": {
      "text/plain": "PLN    100\nEUR    200\nUSD    300\ndtype: int64"
     },
     "execution_count": 8,
     "metadata": {},
     "output_type": "execute_result"
    }
   ],
   "source": [
    "acc1 = pd.Series([100, 200, 300], index=['PLN', 'EUR', 'USD'])\n",
    "acc1"
   ],
   "metadata": {
    "collapsed": false,
    "ExecuteTime": {
     "end_time": "2024-06-01T10:17:31.497793Z",
     "start_time": "2024-06-01T10:17:31.476470800Z"
    }
   },
   "id": "226164e6ea905eaf"
  },
  {
   "cell_type": "code",
   "execution_count": 9,
   "outputs": [
    {
     "data": {
      "text/plain": "PLN    250\nUSD    300\nEUR    500\ndtype: int64"
     },
     "execution_count": 9,
     "metadata": {},
     "output_type": "execute_result"
    }
   ],
   "source": [
    "acc2 = pd.Series([250, 300, 500], index=['PLN', 'USD', 'EUR'])\n",
    "acc2"
   ],
   "metadata": {
    "collapsed": false,
    "ExecuteTime": {
     "end_time": "2024-06-01T10:18:09.051863600Z",
     "start_time": "2024-06-01T10:18:09.041581600Z"
    }
   },
   "id": "8d87b960f76afe1b"
  },
  {
   "cell_type": "code",
   "execution_count": 10,
   "outputs": [
    {
     "data": {
      "text/plain": "EUR    700\nPLN    350\nUSD    600\ndtype: int64"
     },
     "execution_count": 10,
     "metadata": {},
     "output_type": "execute_result"
    }
   ],
   "source": [
    "acc1 + acc2"
   ],
   "metadata": {
    "collapsed": false,
    "ExecuteTime": {
     "end_time": "2024-06-01T10:18:45.094658400Z",
     "start_time": "2024-06-01T10:18:45.084845300Z"
    }
   },
   "id": "edc894e1dd0b01e5"
  },
  {
   "cell_type": "markdown",
   "source": [
    "Dostęp do elementu serii"
   ],
   "metadata": {
    "collapsed": false
   },
   "id": "bb13ee0d5d97f08e"
  },
  {
   "cell_type": "code",
   "execution_count": 11,
   "outputs": [
    {
     "data": {
      "text/plain": "2"
     },
     "execution_count": 11,
     "metadata": {},
     "output_type": "execute_result"
    }
   ],
   "source": [
    "arr[1]"
   ],
   "metadata": {
    "collapsed": false,
    "ExecuteTime": {
     "end_time": "2024-06-01T10:20:06.365236300Z",
     "start_time": "2024-06-01T10:20:06.354537700Z"
    }
   },
   "id": "cc70937145b75207"
  },
  {
   "cell_type": "code",
   "execution_count": 12,
   "outputs": [
    {
     "data": {
      "text/plain": "100"
     },
     "execution_count": 12,
     "metadata": {},
     "output_type": "execute_result"
    }
   ],
   "source": [
    "acc1['PLN']"
   ],
   "metadata": {
    "collapsed": false,
    "ExecuteTime": {
     "end_time": "2024-06-01T10:20:14.535471500Z",
     "start_time": "2024-06-01T10:20:14.507477200Z"
    }
   },
   "id": "3787eb5b6c39471a"
  },
  {
   "cell_type": "code",
   "execution_count": null,
   "outputs": [],
   "source": [],
   "metadata": {
    "collapsed": false
   },
   "id": "d78db00283ffa028"
  }
 ],
 "metadata": {
  "kernelspec": {
   "display_name": "Python 3",
   "language": "python",
   "name": "python3"
  },
  "language_info": {
   "codemirror_mode": {
    "name": "ipython",
    "version": 2
   },
   "file_extension": ".py",
   "mimetype": "text/x-python",
   "name": "python",
   "nbconvert_exporter": "python",
   "pygments_lexer": "ipython2",
   "version": "2.7.6"
  }
 },
 "nbformat": 4,
 "nbformat_minor": 5
}
