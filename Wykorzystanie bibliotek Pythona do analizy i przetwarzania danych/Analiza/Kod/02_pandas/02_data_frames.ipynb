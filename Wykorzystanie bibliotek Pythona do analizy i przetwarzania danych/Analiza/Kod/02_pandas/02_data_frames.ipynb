{
 "cells": [
  {
   "cell_type": "code",
   "execution_count": 1,
   "id": "initial_id",
   "metadata": {
    "collapsed": true,
    "ExecuteTime": {
     "end_time": "2024-06-01T10:21:47.625132200Z",
     "start_time": "2024-06-01T10:21:46.982858600Z"
    }
   },
   "outputs": [],
   "source": [
    "import numpy as np\n",
    "import pandas as pd"
   ]
  },
  {
   "cell_type": "markdown",
   "source": [
    "### Tworzenie DataFrame"
   ],
   "metadata": {
    "collapsed": false
   },
   "id": "6bb9d5710144103d"
  },
  {
   "cell_type": "code",
   "execution_count": 5,
   "outputs": [],
   "source": [
    "arr2d = np.array([[1, 2, 3], [4, 5, 6]])"
   ],
   "metadata": {
    "collapsed": false,
    "ExecuteTime": {
     "end_time": "2024-06-01T10:23:22.896062Z",
     "start_time": "2024-06-01T10:23:22.892066300Z"
    }
   },
   "id": "c933294073b80aa3"
  },
  {
   "cell_type": "code",
   "execution_count": 6,
   "outputs": [
    {
     "data": {
      "text/plain": "   0  1  2\n0  1  2  3\n1  4  5  6",
      "text/html": "<div>\n<style scoped>\n    .dataframe tbody tr th:only-of-type {\n        vertical-align: middle;\n    }\n\n    .dataframe tbody tr th {\n        vertical-align: top;\n    }\n\n    .dataframe thead th {\n        text-align: right;\n    }\n</style>\n<table border=\"1\" class=\"dataframe\">\n  <thead>\n    <tr style=\"text-align: right;\">\n      <th></th>\n      <th>0</th>\n      <th>1</th>\n      <th>2</th>\n    </tr>\n  </thead>\n  <tbody>\n    <tr>\n      <th>0</th>\n      <td>1</td>\n      <td>2</td>\n      <td>3</td>\n    </tr>\n    <tr>\n      <th>1</th>\n      <td>4</td>\n      <td>5</td>\n      <td>6</td>\n    </tr>\n  </tbody>\n</table>\n</div>"
     },
     "execution_count": 6,
     "metadata": {},
     "output_type": "execute_result"
    }
   ],
   "source": [
    "pd.DataFrame(arr2d)"
   ],
   "metadata": {
    "collapsed": false,
    "ExecuteTime": {
     "end_time": "2024-06-01T10:23:30.482966300Z",
     "start_time": "2024-06-01T10:23:30.463963700Z"
    }
   },
   "id": "e912579562d50a57"
  },
  {
   "cell_type": "markdown",
   "source": [
    "Własne nazwy kolumn"
   ],
   "metadata": {
    "collapsed": false
   },
   "id": "e01c3ac6efc8ccc"
  },
  {
   "cell_type": "code",
   "execution_count": 11,
   "outputs": [
    {
     "data": {
      "text/plain": "   a  b  c\n0  1  2  3\n1  4  5  6",
      "text/html": "<div>\n<style scoped>\n    .dataframe tbody tr th:only-of-type {\n        vertical-align: middle;\n    }\n\n    .dataframe tbody tr th {\n        vertical-align: top;\n    }\n\n    .dataframe thead th {\n        text-align: right;\n    }\n</style>\n<table border=\"1\" class=\"dataframe\">\n  <thead>\n    <tr style=\"text-align: right;\">\n      <th></th>\n      <th>a</th>\n      <th>b</th>\n      <th>c</th>\n    </tr>\n  </thead>\n  <tbody>\n    <tr>\n      <th>0</th>\n      <td>1</td>\n      <td>2</td>\n      <td>3</td>\n    </tr>\n    <tr>\n      <th>1</th>\n      <td>4</td>\n      <td>5</td>\n      <td>6</td>\n    </tr>\n  </tbody>\n</table>\n</div>"
     },
     "execution_count": 11,
     "metadata": {},
     "output_type": "execute_result"
    }
   ],
   "source": [
    "pd.DataFrame(arr2d, columns=['a', 'b', 'c'])"
   ],
   "metadata": {
    "collapsed": false,
    "ExecuteTime": {
     "end_time": "2024-06-01T10:25:34.258656400Z",
     "start_time": "2024-06-01T10:25:34.237635900Z"
    }
   },
   "id": "6c98b428d88cff74"
  },
  {
   "cell_type": "markdown",
   "source": [
    "Własne etykiety wierszy i kolumn"
   ],
   "metadata": {
    "collapsed": false
   },
   "id": "9d319b0f8ca2d66c"
  },
  {
   "cell_type": "code",
   "execution_count": 12,
   "outputs": [
    {
     "data": {
      "text/plain": "    a  b  c\nw1  1  2  3\nw2  4  5  6",
      "text/html": "<div>\n<style scoped>\n    .dataframe tbody tr th:only-of-type {\n        vertical-align: middle;\n    }\n\n    .dataframe tbody tr th {\n        vertical-align: top;\n    }\n\n    .dataframe thead th {\n        text-align: right;\n    }\n</style>\n<table border=\"1\" class=\"dataframe\">\n  <thead>\n    <tr style=\"text-align: right;\">\n      <th></th>\n      <th>a</th>\n      <th>b</th>\n      <th>c</th>\n    </tr>\n  </thead>\n  <tbody>\n    <tr>\n      <th>w1</th>\n      <td>1</td>\n      <td>2</td>\n      <td>3</td>\n    </tr>\n    <tr>\n      <th>w2</th>\n      <td>4</td>\n      <td>5</td>\n      <td>6</td>\n    </tr>\n  </tbody>\n</table>\n</div>"
     },
     "execution_count": 12,
     "metadata": {},
     "output_type": "execute_result"
    }
   ],
   "source": [
    "pd.DataFrame(arr2d, index=['w1', 'w2'], columns=['a', 'b', 'c'])"
   ],
   "metadata": {
    "collapsed": false,
    "ExecuteTime": {
     "end_time": "2024-06-01T10:26:28.844272400Z",
     "start_time": "2024-06-01T10:26:28.824721100Z"
    }
   },
   "id": "12218311361eda0e"
  },
  {
   "cell_type": "markdown",
   "source": [
    "### Wybór elementów"
   ],
   "metadata": {
    "collapsed": false
   },
   "id": "b5506be7027e795d"
  },
  {
   "cell_type": "code",
   "execution_count": 13,
   "outputs": [],
   "source": [
    "np.random.seed(5)"
   ],
   "metadata": {
    "collapsed": false,
    "ExecuteTime": {
     "end_time": "2024-06-01T10:27:59.223675500Z",
     "start_time": "2024-06-01T10:27:59.214679400Z"
    }
   },
   "id": "92ee25d93e4541aa"
  },
  {
   "cell_type": "code",
   "execution_count": 14,
   "outputs": [
    {
     "data": {
      "text/plain": "array([[ 0.44122749, -0.33087015,  2.43077119, -0.25209213,  0.10960984],\n       [ 1.58248112, -0.9092324 , -0.59163666,  0.18760323, -0.32986996],\n       [-1.19276461, -0.20487651, -0.35882895,  0.6034716 , -1.66478853],\n       [-0.70017904,  1.15139101,  1.85733101, -1.51117956,  0.64484751],\n       [-0.98060789, -0.85685315, -0.87187918, -0.42250793,  0.99643983]])"
     },
     "execution_count": 14,
     "metadata": {},
     "output_type": "execute_result"
    }
   ],
   "source": [
    "arr_rnd = np.random.randn(5, 5)\n",
    "arr_rnd"
   ],
   "metadata": {
    "collapsed": false,
    "ExecuteTime": {
     "end_time": "2024-06-01T10:28:44.928858200Z",
     "start_time": "2024-06-01T10:28:44.920326500Z"
    }
   },
   "id": "98a3fd9c1c85fc3f"
  },
  {
   "cell_type": "code",
   "execution_count": 16,
   "outputs": [],
   "source": [
    "df = pd.DataFrame(arr_rnd, index=['a', 'b', 'c', 'd', 'e'], columns=['C1', 'C2', 'C3', 'C4', 'C5'])"
   ],
   "metadata": {
    "collapsed": false,
    "ExecuteTime": {
     "end_time": "2024-06-01T10:30:16.722416Z",
     "start_time": "2024-06-01T10:30:16.715377300Z"
    }
   },
   "id": "590fe36ea71acaa7"
  },
  {
   "cell_type": "code",
   "execution_count": 17,
   "outputs": [
    {
     "data": {
      "text/plain": "         C1        C2        C3        C4        C5\na  0.441227 -0.330870  2.430771 -0.252092  0.109610\nb  1.582481 -0.909232 -0.591637  0.187603 -0.329870\nc -1.192765 -0.204877 -0.358829  0.603472 -1.664789\nd -0.700179  1.151391  1.857331 -1.511180  0.644848\ne -0.980608 -0.856853 -0.871879 -0.422508  0.996440",
      "text/html": "<div>\n<style scoped>\n    .dataframe tbody tr th:only-of-type {\n        vertical-align: middle;\n    }\n\n    .dataframe tbody tr th {\n        vertical-align: top;\n    }\n\n    .dataframe thead th {\n        text-align: right;\n    }\n</style>\n<table border=\"1\" class=\"dataframe\">\n  <thead>\n    <tr style=\"text-align: right;\">\n      <th></th>\n      <th>C1</th>\n      <th>C2</th>\n      <th>C3</th>\n      <th>C4</th>\n      <th>C5</th>\n    </tr>\n  </thead>\n  <tbody>\n    <tr>\n      <th>a</th>\n      <td>0.441227</td>\n      <td>-0.330870</td>\n      <td>2.430771</td>\n      <td>-0.252092</td>\n      <td>0.109610</td>\n    </tr>\n    <tr>\n      <th>b</th>\n      <td>1.582481</td>\n      <td>-0.909232</td>\n      <td>-0.591637</td>\n      <td>0.187603</td>\n      <td>-0.329870</td>\n    </tr>\n    <tr>\n      <th>c</th>\n      <td>-1.192765</td>\n      <td>-0.204877</td>\n      <td>-0.358829</td>\n      <td>0.603472</td>\n      <td>-1.664789</td>\n    </tr>\n    <tr>\n      <th>d</th>\n      <td>-0.700179</td>\n      <td>1.151391</td>\n      <td>1.857331</td>\n      <td>-1.511180</td>\n      <td>0.644848</td>\n    </tr>\n    <tr>\n      <th>e</th>\n      <td>-0.980608</td>\n      <td>-0.856853</td>\n      <td>-0.871879</td>\n      <td>-0.422508</td>\n      <td>0.996440</td>\n    </tr>\n  </tbody>\n</table>\n</div>"
     },
     "execution_count": 17,
     "metadata": {},
     "output_type": "execute_result"
    }
   ],
   "source": [
    "df"
   ],
   "metadata": {
    "collapsed": false,
    "ExecuteTime": {
     "end_time": "2024-06-01T10:30:31.775224200Z",
     "start_time": "2024-06-01T10:30:31.733869500Z"
    }
   },
   "id": "2385e416bbe7cd8a"
  },
  {
   "cell_type": "code",
   "execution_count": 18,
   "outputs": [
    {
     "data": {
      "text/plain": "a    0.441227\nb    1.582481\nc   -1.192765\nd   -0.700179\ne   -0.980608\nName: C1, dtype: float64"
     },
     "execution_count": 18,
     "metadata": {},
     "output_type": "execute_result"
    }
   ],
   "source": [
    "df['C1']"
   ],
   "metadata": {
    "collapsed": false,
    "ExecuteTime": {
     "end_time": "2024-06-01T10:31:15.835040400Z",
     "start_time": "2024-06-01T10:31:15.805388200Z"
    }
   },
   "id": "e7032fd19f473e39"
  },
  {
   "cell_type": "code",
   "execution_count": 21,
   "outputs": [
    {
     "data": {
      "text/plain": "         C1        C3\na  0.441227  2.430771\nb  1.582481 -0.591637\nc -1.192765 -0.358829\nd -0.700179  1.857331\ne -0.980608 -0.871879",
      "text/html": "<div>\n<style scoped>\n    .dataframe tbody tr th:only-of-type {\n        vertical-align: middle;\n    }\n\n    .dataframe tbody tr th {\n        vertical-align: top;\n    }\n\n    .dataframe thead th {\n        text-align: right;\n    }\n</style>\n<table border=\"1\" class=\"dataframe\">\n  <thead>\n    <tr style=\"text-align: right;\">\n      <th></th>\n      <th>C1</th>\n      <th>C3</th>\n    </tr>\n  </thead>\n  <tbody>\n    <tr>\n      <th>a</th>\n      <td>0.441227</td>\n      <td>2.430771</td>\n    </tr>\n    <tr>\n      <th>b</th>\n      <td>1.582481</td>\n      <td>-0.591637</td>\n    </tr>\n    <tr>\n      <th>c</th>\n      <td>-1.192765</td>\n      <td>-0.358829</td>\n    </tr>\n    <tr>\n      <th>d</th>\n      <td>-0.700179</td>\n      <td>1.857331</td>\n    </tr>\n    <tr>\n      <th>e</th>\n      <td>-0.980608</td>\n      <td>-0.871879</td>\n    </tr>\n  </tbody>\n</table>\n</div>"
     },
     "execution_count": 21,
     "metadata": {},
     "output_type": "execute_result"
    }
   ],
   "source": [
    "df[['C1', 'C3']]"
   ],
   "metadata": {
    "collapsed": false,
    "ExecuteTime": {
     "end_time": "2024-06-01T10:33:08.442728600Z",
     "start_time": "2024-06-01T10:33:08.419208Z"
    }
   },
   "id": "cf75e166aa63a1d9"
  },
  {
   "cell_type": "markdown",
   "source": [
    "Tworzenie nowej kolumny"
   ],
   "metadata": {
    "collapsed": false
   },
   "id": "5967161d0f6a1b36"
  },
  {
   "cell_type": "code",
   "execution_count": 27,
   "outputs": [
    {
     "data": {
      "text/plain": "         C1        C2        C3        C4        C5    new_C6\na  0.441227 -0.330870  2.430771 -0.252092  0.109610  0.882455\nb  1.582481 -0.909232 -0.591637  0.187603 -0.329870  3.164962\nc -1.192765 -0.204877 -0.358829  0.603472 -1.664789 -2.385529\nd -0.700179  1.151391  1.857331 -1.511180  0.644848 -1.400358\ne -0.980608 -0.856853 -0.871879 -0.422508  0.996440 -1.961216",
      "text/html": "<div>\n<style scoped>\n    .dataframe tbody tr th:only-of-type {\n        vertical-align: middle;\n    }\n\n    .dataframe tbody tr th {\n        vertical-align: top;\n    }\n\n    .dataframe thead th {\n        text-align: right;\n    }\n</style>\n<table border=\"1\" class=\"dataframe\">\n  <thead>\n    <tr style=\"text-align: right;\">\n      <th></th>\n      <th>C1</th>\n      <th>C2</th>\n      <th>C3</th>\n      <th>C4</th>\n      <th>C5</th>\n      <th>new_C6</th>\n    </tr>\n  </thead>\n  <tbody>\n    <tr>\n      <th>a</th>\n      <td>0.441227</td>\n      <td>-0.330870</td>\n      <td>2.430771</td>\n      <td>-0.252092</td>\n      <td>0.109610</td>\n      <td>0.882455</td>\n    </tr>\n    <tr>\n      <th>b</th>\n      <td>1.582481</td>\n      <td>-0.909232</td>\n      <td>-0.591637</td>\n      <td>0.187603</td>\n      <td>-0.329870</td>\n      <td>3.164962</td>\n    </tr>\n    <tr>\n      <th>c</th>\n      <td>-1.192765</td>\n      <td>-0.204877</td>\n      <td>-0.358829</td>\n      <td>0.603472</td>\n      <td>-1.664789</td>\n      <td>-2.385529</td>\n    </tr>\n    <tr>\n      <th>d</th>\n      <td>-0.700179</td>\n      <td>1.151391</td>\n      <td>1.857331</td>\n      <td>-1.511180</td>\n      <td>0.644848</td>\n      <td>-1.400358</td>\n    </tr>\n    <tr>\n      <th>e</th>\n      <td>-0.980608</td>\n      <td>-0.856853</td>\n      <td>-0.871879</td>\n      <td>-0.422508</td>\n      <td>0.996440</td>\n      <td>-1.961216</td>\n    </tr>\n  </tbody>\n</table>\n</div>"
     },
     "execution_count": 27,
     "metadata": {},
     "output_type": "execute_result"
    }
   ],
   "source": [
    "df['new_C6'] = df['C1'] * 2\n",
    "df"
   ],
   "metadata": {
    "collapsed": false,
    "ExecuteTime": {
     "end_time": "2024-06-01T10:34:43.992703400Z",
     "start_time": "2024-06-01T10:34:43.969699800Z"
    }
   },
   "id": "6e58d9530c5054db"
  },
  {
   "cell_type": "markdown",
   "source": [
    "Usuwanie kolumny"
   ],
   "metadata": {
    "collapsed": false
   },
   "id": "8f26d3afc0e4aaaf"
  },
  {
   "cell_type": "code",
   "execution_count": 28,
   "outputs": [
    {
     "data": {
      "text/plain": "         C1        C2        C3        C4    new_C6\na  0.441227 -0.330870  2.430771 -0.252092  0.882455\nb  1.582481 -0.909232 -0.591637  0.187603  3.164962\nc -1.192765 -0.204877 -0.358829  0.603472 -2.385529\nd -0.700179  1.151391  1.857331 -1.511180 -1.400358\ne -0.980608 -0.856853 -0.871879 -0.422508 -1.961216",
      "text/html": "<div>\n<style scoped>\n    .dataframe tbody tr th:only-of-type {\n        vertical-align: middle;\n    }\n\n    .dataframe tbody tr th {\n        vertical-align: top;\n    }\n\n    .dataframe thead th {\n        text-align: right;\n    }\n</style>\n<table border=\"1\" class=\"dataframe\">\n  <thead>\n    <tr style=\"text-align: right;\">\n      <th></th>\n      <th>C1</th>\n      <th>C2</th>\n      <th>C3</th>\n      <th>C4</th>\n      <th>new_C6</th>\n    </tr>\n  </thead>\n  <tbody>\n    <tr>\n      <th>a</th>\n      <td>0.441227</td>\n      <td>-0.330870</td>\n      <td>2.430771</td>\n      <td>-0.252092</td>\n      <td>0.882455</td>\n    </tr>\n    <tr>\n      <th>b</th>\n      <td>1.582481</td>\n      <td>-0.909232</td>\n      <td>-0.591637</td>\n      <td>0.187603</td>\n      <td>3.164962</td>\n    </tr>\n    <tr>\n      <th>c</th>\n      <td>-1.192765</td>\n      <td>-0.204877</td>\n      <td>-0.358829</td>\n      <td>0.603472</td>\n      <td>-2.385529</td>\n    </tr>\n    <tr>\n      <th>d</th>\n      <td>-0.700179</td>\n      <td>1.151391</td>\n      <td>1.857331</td>\n      <td>-1.511180</td>\n      <td>-1.400358</td>\n    </tr>\n    <tr>\n      <th>e</th>\n      <td>-0.980608</td>\n      <td>-0.856853</td>\n      <td>-0.871879</td>\n      <td>-0.422508</td>\n      <td>-1.961216</td>\n    </tr>\n  </tbody>\n</table>\n</div>"
     },
     "execution_count": 28,
     "metadata": {},
     "output_type": "execute_result"
    }
   ],
   "source": [
    "df.drop('C5', axis=1)"
   ],
   "metadata": {
    "collapsed": false,
    "ExecuteTime": {
     "end_time": "2024-06-01T10:35:52.815091800Z",
     "start_time": "2024-06-01T10:35:52.779935800Z"
    }
   },
   "id": "78e3446bd485ed12"
  },
  {
   "cell_type": "code",
   "execution_count": 32,
   "outputs": [
    {
     "ename": "KeyError",
     "evalue": "\"['C5'] not found in axis\"",
     "output_type": "error",
     "traceback": [
      "\u001B[1;31m---------------------------------------------------------------------------\u001B[0m",
      "\u001B[1;31mKeyError\u001B[0m                                  Traceback (most recent call last)",
      "Cell \u001B[1;32mIn[32], line 1\u001B[0m\n\u001B[1;32m----> 1\u001B[0m df \u001B[38;5;241m=\u001B[39m \u001B[43mdf\u001B[49m\u001B[38;5;241;43m.\u001B[39;49m\u001B[43mdrop\u001B[49m\u001B[43m(\u001B[49m\u001B[38;5;124;43m'\u001B[39;49m\u001B[38;5;124;43mC5\u001B[39;49m\u001B[38;5;124;43m'\u001B[39;49m\u001B[43m,\u001B[49m\u001B[43m \u001B[49m\u001B[43maxis\u001B[49m\u001B[38;5;241;43m=\u001B[39;49m\u001B[38;5;241;43m1\u001B[39;49m\u001B[43m)\u001B[49m\n",
      "File \u001B[1;32mC:\\Misiek\\Programowanie\\Studia\\Wykorzystanie bibliotek Pythona do analizy i przetwarzania danych\\Analiza\\venv\\Lib\\site-packages\\pandas\\core\\frame.py:5581\u001B[0m, in \u001B[0;36mDataFrame.drop\u001B[1;34m(self, labels, axis, index, columns, level, inplace, errors)\u001B[0m\n\u001B[0;32m   5433\u001B[0m \u001B[38;5;28;01mdef\u001B[39;00m \u001B[38;5;21mdrop\u001B[39m(\n\u001B[0;32m   5434\u001B[0m     \u001B[38;5;28mself\u001B[39m,\n\u001B[0;32m   5435\u001B[0m     labels: IndexLabel \u001B[38;5;241m|\u001B[39m \u001B[38;5;28;01mNone\u001B[39;00m \u001B[38;5;241m=\u001B[39m \u001B[38;5;28;01mNone\u001B[39;00m,\n\u001B[1;32m   (...)\u001B[0m\n\u001B[0;32m   5442\u001B[0m     errors: IgnoreRaise \u001B[38;5;241m=\u001B[39m \u001B[38;5;124m\"\u001B[39m\u001B[38;5;124mraise\u001B[39m\u001B[38;5;124m\"\u001B[39m,\n\u001B[0;32m   5443\u001B[0m ) \u001B[38;5;241m-\u001B[39m\u001B[38;5;241m>\u001B[39m DataFrame \u001B[38;5;241m|\u001B[39m \u001B[38;5;28;01mNone\u001B[39;00m:\n\u001B[0;32m   5444\u001B[0m \u001B[38;5;250m    \u001B[39m\u001B[38;5;124;03m\"\"\"\u001B[39;00m\n\u001B[0;32m   5445\u001B[0m \u001B[38;5;124;03m    Drop specified labels from rows or columns.\u001B[39;00m\n\u001B[0;32m   5446\u001B[0m \n\u001B[1;32m   (...)\u001B[0m\n\u001B[0;32m   5579\u001B[0m \u001B[38;5;124;03m            weight  1.0     0.8\u001B[39;00m\n\u001B[0;32m   5580\u001B[0m \u001B[38;5;124;03m    \"\"\"\u001B[39;00m\n\u001B[1;32m-> 5581\u001B[0m     \u001B[38;5;28;01mreturn\u001B[39;00m \u001B[38;5;28;43msuper\u001B[39;49m\u001B[43m(\u001B[49m\u001B[43m)\u001B[49m\u001B[38;5;241;43m.\u001B[39;49m\u001B[43mdrop\u001B[49m\u001B[43m(\u001B[49m\n\u001B[0;32m   5582\u001B[0m \u001B[43m        \u001B[49m\u001B[43mlabels\u001B[49m\u001B[38;5;241;43m=\u001B[39;49m\u001B[43mlabels\u001B[49m\u001B[43m,\u001B[49m\n\u001B[0;32m   5583\u001B[0m \u001B[43m        \u001B[49m\u001B[43maxis\u001B[49m\u001B[38;5;241;43m=\u001B[39;49m\u001B[43maxis\u001B[49m\u001B[43m,\u001B[49m\n\u001B[0;32m   5584\u001B[0m \u001B[43m        \u001B[49m\u001B[43mindex\u001B[49m\u001B[38;5;241;43m=\u001B[39;49m\u001B[43mindex\u001B[49m\u001B[43m,\u001B[49m\n\u001B[0;32m   5585\u001B[0m \u001B[43m        \u001B[49m\u001B[43mcolumns\u001B[49m\u001B[38;5;241;43m=\u001B[39;49m\u001B[43mcolumns\u001B[49m\u001B[43m,\u001B[49m\n\u001B[0;32m   5586\u001B[0m \u001B[43m        \u001B[49m\u001B[43mlevel\u001B[49m\u001B[38;5;241;43m=\u001B[39;49m\u001B[43mlevel\u001B[49m\u001B[43m,\u001B[49m\n\u001B[0;32m   5587\u001B[0m \u001B[43m        \u001B[49m\u001B[43minplace\u001B[49m\u001B[38;5;241;43m=\u001B[39;49m\u001B[43minplace\u001B[49m\u001B[43m,\u001B[49m\n\u001B[0;32m   5588\u001B[0m \u001B[43m        \u001B[49m\u001B[43merrors\u001B[49m\u001B[38;5;241;43m=\u001B[39;49m\u001B[43merrors\u001B[49m\u001B[43m,\u001B[49m\n\u001B[0;32m   5589\u001B[0m \u001B[43m    \u001B[49m\u001B[43m)\u001B[49m\n",
      "File \u001B[1;32mC:\\Misiek\\Programowanie\\Studia\\Wykorzystanie bibliotek Pythona do analizy i przetwarzania danych\\Analiza\\venv\\Lib\\site-packages\\pandas\\core\\generic.py:4788\u001B[0m, in \u001B[0;36mNDFrame.drop\u001B[1;34m(self, labels, axis, index, columns, level, inplace, errors)\u001B[0m\n\u001B[0;32m   4786\u001B[0m \u001B[38;5;28;01mfor\u001B[39;00m axis, labels \u001B[38;5;129;01min\u001B[39;00m axes\u001B[38;5;241m.\u001B[39mitems():\n\u001B[0;32m   4787\u001B[0m     \u001B[38;5;28;01mif\u001B[39;00m labels \u001B[38;5;129;01mis\u001B[39;00m \u001B[38;5;129;01mnot\u001B[39;00m \u001B[38;5;28;01mNone\u001B[39;00m:\n\u001B[1;32m-> 4788\u001B[0m         obj \u001B[38;5;241m=\u001B[39m \u001B[43mobj\u001B[49m\u001B[38;5;241;43m.\u001B[39;49m\u001B[43m_drop_axis\u001B[49m\u001B[43m(\u001B[49m\u001B[43mlabels\u001B[49m\u001B[43m,\u001B[49m\u001B[43m \u001B[49m\u001B[43maxis\u001B[49m\u001B[43m,\u001B[49m\u001B[43m \u001B[49m\u001B[43mlevel\u001B[49m\u001B[38;5;241;43m=\u001B[39;49m\u001B[43mlevel\u001B[49m\u001B[43m,\u001B[49m\u001B[43m \u001B[49m\u001B[43merrors\u001B[49m\u001B[38;5;241;43m=\u001B[39;49m\u001B[43merrors\u001B[49m\u001B[43m)\u001B[49m\n\u001B[0;32m   4790\u001B[0m \u001B[38;5;28;01mif\u001B[39;00m inplace:\n\u001B[0;32m   4791\u001B[0m     \u001B[38;5;28mself\u001B[39m\u001B[38;5;241m.\u001B[39m_update_inplace(obj)\n",
      "File \u001B[1;32mC:\\Misiek\\Programowanie\\Studia\\Wykorzystanie bibliotek Pythona do analizy i przetwarzania danych\\Analiza\\venv\\Lib\\site-packages\\pandas\\core\\generic.py:4830\u001B[0m, in \u001B[0;36mNDFrame._drop_axis\u001B[1;34m(self, labels, axis, level, errors, only_slice)\u001B[0m\n\u001B[0;32m   4828\u001B[0m         new_axis \u001B[38;5;241m=\u001B[39m axis\u001B[38;5;241m.\u001B[39mdrop(labels, level\u001B[38;5;241m=\u001B[39mlevel, errors\u001B[38;5;241m=\u001B[39merrors)\n\u001B[0;32m   4829\u001B[0m     \u001B[38;5;28;01melse\u001B[39;00m:\n\u001B[1;32m-> 4830\u001B[0m         new_axis \u001B[38;5;241m=\u001B[39m \u001B[43maxis\u001B[49m\u001B[38;5;241;43m.\u001B[39;49m\u001B[43mdrop\u001B[49m\u001B[43m(\u001B[49m\u001B[43mlabels\u001B[49m\u001B[43m,\u001B[49m\u001B[43m \u001B[49m\u001B[43merrors\u001B[49m\u001B[38;5;241;43m=\u001B[39;49m\u001B[43merrors\u001B[49m\u001B[43m)\u001B[49m\n\u001B[0;32m   4831\u001B[0m     indexer \u001B[38;5;241m=\u001B[39m axis\u001B[38;5;241m.\u001B[39mget_indexer(new_axis)\n\u001B[0;32m   4833\u001B[0m \u001B[38;5;66;03m# Case for non-unique axis\u001B[39;00m\n\u001B[0;32m   4834\u001B[0m \u001B[38;5;28;01melse\u001B[39;00m:\n",
      "File \u001B[1;32mC:\\Misiek\\Programowanie\\Studia\\Wykorzystanie bibliotek Pythona do analizy i przetwarzania danych\\Analiza\\venv\\Lib\\site-packages\\pandas\\core\\indexes\\base.py:7070\u001B[0m, in \u001B[0;36mIndex.drop\u001B[1;34m(self, labels, errors)\u001B[0m\n\u001B[0;32m   7068\u001B[0m \u001B[38;5;28;01mif\u001B[39;00m mask\u001B[38;5;241m.\u001B[39many():\n\u001B[0;32m   7069\u001B[0m     \u001B[38;5;28;01mif\u001B[39;00m errors \u001B[38;5;241m!=\u001B[39m \u001B[38;5;124m\"\u001B[39m\u001B[38;5;124mignore\u001B[39m\u001B[38;5;124m\"\u001B[39m:\n\u001B[1;32m-> 7070\u001B[0m         \u001B[38;5;28;01mraise\u001B[39;00m \u001B[38;5;167;01mKeyError\u001B[39;00m(\u001B[38;5;124mf\u001B[39m\u001B[38;5;124m\"\u001B[39m\u001B[38;5;132;01m{\u001B[39;00mlabels[mask]\u001B[38;5;241m.\u001B[39mtolist()\u001B[38;5;132;01m}\u001B[39;00m\u001B[38;5;124m not found in axis\u001B[39m\u001B[38;5;124m\"\u001B[39m)\n\u001B[0;32m   7071\u001B[0m     indexer \u001B[38;5;241m=\u001B[39m indexer[\u001B[38;5;241m~\u001B[39mmask]\n\u001B[0;32m   7072\u001B[0m \u001B[38;5;28;01mreturn\u001B[39;00m \u001B[38;5;28mself\u001B[39m\u001B[38;5;241m.\u001B[39mdelete(indexer)\n",
      "\u001B[1;31mKeyError\u001B[0m: \"['C5'] not found in axis\""
     ]
    }
   ],
   "source": [
    "df = df.drop('C5', axis=1)"
   ],
   "metadata": {
    "collapsed": false,
    "ExecuteTime": {
     "end_time": "2024-06-01T10:37:32.371780400Z",
     "start_time": "2024-06-01T10:37:32.321699300Z"
    }
   },
   "id": "40952d553cf6c863"
  },
  {
   "cell_type": "code",
   "execution_count": 33,
   "outputs": [
    {
     "data": {
      "text/plain": "         C1        C2        C3        C4    new_C6\na  0.441227 -0.330870  2.430771 -0.252092  0.882455\nb  1.582481 -0.909232 -0.591637  0.187603  3.164962\nc -1.192765 -0.204877 -0.358829  0.603472 -2.385529\nd -0.700179  1.151391  1.857331 -1.511180 -1.400358\ne -0.980608 -0.856853 -0.871879 -0.422508 -1.961216",
      "text/html": "<div>\n<style scoped>\n    .dataframe tbody tr th:only-of-type {\n        vertical-align: middle;\n    }\n\n    .dataframe tbody tr th {\n        vertical-align: top;\n    }\n\n    .dataframe thead th {\n        text-align: right;\n    }\n</style>\n<table border=\"1\" class=\"dataframe\">\n  <thead>\n    <tr style=\"text-align: right;\">\n      <th></th>\n      <th>C1</th>\n      <th>C2</th>\n      <th>C3</th>\n      <th>C4</th>\n      <th>new_C6</th>\n    </tr>\n  </thead>\n  <tbody>\n    <tr>\n      <th>a</th>\n      <td>0.441227</td>\n      <td>-0.330870</td>\n      <td>2.430771</td>\n      <td>-0.252092</td>\n      <td>0.882455</td>\n    </tr>\n    <tr>\n      <th>b</th>\n      <td>1.582481</td>\n      <td>-0.909232</td>\n      <td>-0.591637</td>\n      <td>0.187603</td>\n      <td>3.164962</td>\n    </tr>\n    <tr>\n      <th>c</th>\n      <td>-1.192765</td>\n      <td>-0.204877</td>\n      <td>-0.358829</td>\n      <td>0.603472</td>\n      <td>-2.385529</td>\n    </tr>\n    <tr>\n      <th>d</th>\n      <td>-0.700179</td>\n      <td>1.151391</td>\n      <td>1.857331</td>\n      <td>-1.511180</td>\n      <td>-1.400358</td>\n    </tr>\n    <tr>\n      <th>e</th>\n      <td>-0.980608</td>\n      <td>-0.856853</td>\n      <td>-0.871879</td>\n      <td>-0.422508</td>\n      <td>-1.961216</td>\n    </tr>\n  </tbody>\n</table>\n</div>"
     },
     "execution_count": 33,
     "metadata": {},
     "output_type": "execute_result"
    }
   ],
   "source": [
    "df"
   ],
   "metadata": {
    "collapsed": false,
    "ExecuteTime": {
     "end_time": "2024-06-01T10:37:35.793759800Z",
     "start_time": "2024-06-01T10:37:35.767062700Z"
    }
   },
   "id": "8eefdee808137f8b"
  },
  {
   "cell_type": "markdown",
   "source": [
    "Usuwanie wierszy"
   ],
   "metadata": {
    "collapsed": false
   },
   "id": "6c9cfae6e433105"
  },
  {
   "cell_type": "code",
   "execution_count": 37,
   "outputs": [
    {
     "data": {
      "text/plain": "         C1        C2        C3        C4    new_C6\na  0.441227 -0.330870  2.430771 -0.252092  0.882455\nb  1.582481 -0.909232 -0.591637  0.187603  3.164962\nc -1.192765 -0.204877 -0.358829  0.603472 -2.385529\ne -0.980608 -0.856853 -0.871879 -0.422508 -1.961216",
      "text/html": "<div>\n<style scoped>\n    .dataframe tbody tr th:only-of-type {\n        vertical-align: middle;\n    }\n\n    .dataframe tbody tr th {\n        vertical-align: top;\n    }\n\n    .dataframe thead th {\n        text-align: right;\n    }\n</style>\n<table border=\"1\" class=\"dataframe\">\n  <thead>\n    <tr style=\"text-align: right;\">\n      <th></th>\n      <th>C1</th>\n      <th>C2</th>\n      <th>C3</th>\n      <th>C4</th>\n      <th>new_C6</th>\n    </tr>\n  </thead>\n  <tbody>\n    <tr>\n      <th>a</th>\n      <td>0.441227</td>\n      <td>-0.330870</td>\n      <td>2.430771</td>\n      <td>-0.252092</td>\n      <td>0.882455</td>\n    </tr>\n    <tr>\n      <th>b</th>\n      <td>1.582481</td>\n      <td>-0.909232</td>\n      <td>-0.591637</td>\n      <td>0.187603</td>\n      <td>3.164962</td>\n    </tr>\n    <tr>\n      <th>c</th>\n      <td>-1.192765</td>\n      <td>-0.204877</td>\n      <td>-0.358829</td>\n      <td>0.603472</td>\n      <td>-2.385529</td>\n    </tr>\n    <tr>\n      <th>e</th>\n      <td>-0.980608</td>\n      <td>-0.856853</td>\n      <td>-0.871879</td>\n      <td>-0.422508</td>\n      <td>-1.961216</td>\n    </tr>\n  </tbody>\n</table>\n</div>"
     },
     "execution_count": 37,
     "metadata": {},
     "output_type": "execute_result"
    }
   ],
   "source": [
    "df.drop('d')"
   ],
   "metadata": {
    "collapsed": false,
    "ExecuteTime": {
     "end_time": "2024-06-01T10:38:36.198779600Z",
     "start_time": "2024-06-01T10:38:36.158625400Z"
    }
   },
   "id": "a82bd00ad9248c46"
  },
  {
   "cell_type": "markdown",
   "source": [
    "Wybór wiersza"
   ],
   "metadata": {
    "collapsed": false
   },
   "id": "d04a980d325c083d"
  },
  {
   "cell_type": "code",
   "execution_count": 40,
   "outputs": [
    {
     "data": {
      "text/plain": "C1        0.441227\nC2       -0.330870\nC3        2.430771\nC4       -0.252092\nnew_C6    0.882455\nName: a, dtype: float64"
     },
     "execution_count": 40,
     "metadata": {},
     "output_type": "execute_result"
    }
   ],
   "source": [
    "df.loc['a']"
   ],
   "metadata": {
    "collapsed": false,
    "ExecuteTime": {
     "end_time": "2024-06-01T10:40:15.732741800Z",
     "start_time": "2024-06-01T10:40:15.690082100Z"
    }
   },
   "id": "1767d89960f8f180"
  },
  {
   "cell_type": "code",
   "execution_count": 41,
   "outputs": [
    {
     "data": {
      "text/plain": "         C1        C2        C3        C4    new_C6\na  0.441227 -0.330870  2.430771 -0.252092  0.882455\nc -1.192765 -0.204877 -0.358829  0.603472 -2.385529",
      "text/html": "<div>\n<style scoped>\n    .dataframe tbody tr th:only-of-type {\n        vertical-align: middle;\n    }\n\n    .dataframe tbody tr th {\n        vertical-align: top;\n    }\n\n    .dataframe thead th {\n        text-align: right;\n    }\n</style>\n<table border=\"1\" class=\"dataframe\">\n  <thead>\n    <tr style=\"text-align: right;\">\n      <th></th>\n      <th>C1</th>\n      <th>C2</th>\n      <th>C3</th>\n      <th>C4</th>\n      <th>new_C6</th>\n    </tr>\n  </thead>\n  <tbody>\n    <tr>\n      <th>a</th>\n      <td>0.441227</td>\n      <td>-0.330870</td>\n      <td>2.430771</td>\n      <td>-0.252092</td>\n      <td>0.882455</td>\n    </tr>\n    <tr>\n      <th>c</th>\n      <td>-1.192765</td>\n      <td>-0.204877</td>\n      <td>-0.358829</td>\n      <td>0.603472</td>\n      <td>-2.385529</td>\n    </tr>\n  </tbody>\n</table>\n</div>"
     },
     "execution_count": 41,
     "metadata": {},
     "output_type": "execute_result"
    }
   ],
   "source": [
    "df.loc[['a', 'c']]"
   ],
   "metadata": {
    "collapsed": false,
    "ExecuteTime": {
     "end_time": "2024-06-01T10:40:48.545918700Z",
     "start_time": "2024-06-01T10:40:48.520082800Z"
    }
   },
   "id": "d356a344ca145658"
  },
  {
   "cell_type": "code",
   "execution_count": 42,
   "outputs": [
    {
     "data": {
      "text/plain": "1.5824811170615634"
     },
     "execution_count": 42,
     "metadata": {},
     "output_type": "execute_result"
    }
   ],
   "source": [
    "df.loc['b', 'C1']"
   ],
   "metadata": {
    "collapsed": false,
    "ExecuteTime": {
     "end_time": "2024-06-01T10:42:05.281702400Z",
     "start_time": "2024-06-01T10:42:05.251707100Z"
    }
   },
   "id": "96058f4e770b5918"
  },
  {
   "cell_type": "markdown",
   "source": [
    "Wybór warunkowy"
   ],
   "metadata": {
    "collapsed": false
   },
   "id": "59cc7b1ff16453eb"
  },
  {
   "cell_type": "code",
   "execution_count": 43,
   "outputs": [
    {
     "data": {
      "text/plain": "         C1        C2        C3        C4    new_C6\na  0.441227 -0.330870  2.430771 -0.252092  0.882455\nb  1.582481 -0.909232 -0.591637  0.187603  3.164962\nc -1.192765 -0.204877 -0.358829  0.603472 -2.385529\nd -0.700179  1.151391  1.857331 -1.511180 -1.400358\ne -0.980608 -0.856853 -0.871879 -0.422508 -1.961216",
      "text/html": "<div>\n<style scoped>\n    .dataframe tbody tr th:only-of-type {\n        vertical-align: middle;\n    }\n\n    .dataframe tbody tr th {\n        vertical-align: top;\n    }\n\n    .dataframe thead th {\n        text-align: right;\n    }\n</style>\n<table border=\"1\" class=\"dataframe\">\n  <thead>\n    <tr style=\"text-align: right;\">\n      <th></th>\n      <th>C1</th>\n      <th>C2</th>\n      <th>C3</th>\n      <th>C4</th>\n      <th>new_C6</th>\n    </tr>\n  </thead>\n  <tbody>\n    <tr>\n      <th>a</th>\n      <td>0.441227</td>\n      <td>-0.330870</td>\n      <td>2.430771</td>\n      <td>-0.252092</td>\n      <td>0.882455</td>\n    </tr>\n    <tr>\n      <th>b</th>\n      <td>1.582481</td>\n      <td>-0.909232</td>\n      <td>-0.591637</td>\n      <td>0.187603</td>\n      <td>3.164962</td>\n    </tr>\n    <tr>\n      <th>c</th>\n      <td>-1.192765</td>\n      <td>-0.204877</td>\n      <td>-0.358829</td>\n      <td>0.603472</td>\n      <td>-2.385529</td>\n    </tr>\n    <tr>\n      <th>d</th>\n      <td>-0.700179</td>\n      <td>1.151391</td>\n      <td>1.857331</td>\n      <td>-1.511180</td>\n      <td>-1.400358</td>\n    </tr>\n    <tr>\n      <th>e</th>\n      <td>-0.980608</td>\n      <td>-0.856853</td>\n      <td>-0.871879</td>\n      <td>-0.422508</td>\n      <td>-1.961216</td>\n    </tr>\n  </tbody>\n</table>\n</div>"
     },
     "execution_count": 43,
     "metadata": {},
     "output_type": "execute_result"
    }
   ],
   "source": [
    "df"
   ],
   "metadata": {
    "collapsed": false,
    "ExecuteTime": {
     "end_time": "2024-06-01T10:43:45.846257Z",
     "start_time": "2024-06-01T10:43:45.785538Z"
    }
   },
   "id": "f0b4435773e1f60a"
  },
  {
   "cell_type": "code",
   "execution_count": 44,
   "outputs": [
    {
     "data": {
      "text/plain": "      C1     C2     C3     C4  new_C6\na  False  False   True  False    True\nb   True  False  False  False    True\nc  False  False  False   True   False\nd  False   True   True  False   False\ne  False  False  False  False   False",
      "text/html": "<div>\n<style scoped>\n    .dataframe tbody tr th:only-of-type {\n        vertical-align: middle;\n    }\n\n    .dataframe tbody tr th {\n        vertical-align: top;\n    }\n\n    .dataframe thead th {\n        text-align: right;\n    }\n</style>\n<table border=\"1\" class=\"dataframe\">\n  <thead>\n    <tr style=\"text-align: right;\">\n      <th></th>\n      <th>C1</th>\n      <th>C2</th>\n      <th>C3</th>\n      <th>C4</th>\n      <th>new_C6</th>\n    </tr>\n  </thead>\n  <tbody>\n    <tr>\n      <th>a</th>\n      <td>False</td>\n      <td>False</td>\n      <td>True</td>\n      <td>False</td>\n      <td>True</td>\n    </tr>\n    <tr>\n      <th>b</th>\n      <td>True</td>\n      <td>False</td>\n      <td>False</td>\n      <td>False</td>\n      <td>True</td>\n    </tr>\n    <tr>\n      <th>c</th>\n      <td>False</td>\n      <td>False</td>\n      <td>False</td>\n      <td>True</td>\n      <td>False</td>\n    </tr>\n    <tr>\n      <th>d</th>\n      <td>False</td>\n      <td>True</td>\n      <td>True</td>\n      <td>False</td>\n      <td>False</td>\n    </tr>\n    <tr>\n      <th>e</th>\n      <td>False</td>\n      <td>False</td>\n      <td>False</td>\n      <td>False</td>\n      <td>False</td>\n    </tr>\n  </tbody>\n</table>\n</div>"
     },
     "execution_count": 44,
     "metadata": {},
     "output_type": "execute_result"
    }
   ],
   "source": [
    "df > 0.5"
   ],
   "metadata": {
    "collapsed": false,
    "ExecuteTime": {
     "end_time": "2024-06-01T10:43:52.950498400Z",
     "start_time": "2024-06-01T10:43:52.918216800Z"
    }
   },
   "id": "f97e4f7d1da499f6"
  },
  {
   "cell_type": "code",
   "execution_count": 45,
   "outputs": [
    {
     "data": {
      "text/plain": "         C1        C2        C3        C4    new_C6\na       NaN       NaN  2.430771       NaN  0.882455\nb  1.582481       NaN       NaN       NaN  3.164962\nc       NaN       NaN       NaN  0.603472       NaN\nd       NaN  1.151391  1.857331       NaN       NaN\ne       NaN       NaN       NaN       NaN       NaN",
      "text/html": "<div>\n<style scoped>\n    .dataframe tbody tr th:only-of-type {\n        vertical-align: middle;\n    }\n\n    .dataframe tbody tr th {\n        vertical-align: top;\n    }\n\n    .dataframe thead th {\n        text-align: right;\n    }\n</style>\n<table border=\"1\" class=\"dataframe\">\n  <thead>\n    <tr style=\"text-align: right;\">\n      <th></th>\n      <th>C1</th>\n      <th>C2</th>\n      <th>C3</th>\n      <th>C4</th>\n      <th>new_C6</th>\n    </tr>\n  </thead>\n  <tbody>\n    <tr>\n      <th>a</th>\n      <td>NaN</td>\n      <td>NaN</td>\n      <td>2.430771</td>\n      <td>NaN</td>\n      <td>0.882455</td>\n    </tr>\n    <tr>\n      <th>b</th>\n      <td>1.582481</td>\n      <td>NaN</td>\n      <td>NaN</td>\n      <td>NaN</td>\n      <td>3.164962</td>\n    </tr>\n    <tr>\n      <th>c</th>\n      <td>NaN</td>\n      <td>NaN</td>\n      <td>NaN</td>\n      <td>0.603472</td>\n      <td>NaN</td>\n    </tr>\n    <tr>\n      <th>d</th>\n      <td>NaN</td>\n      <td>1.151391</td>\n      <td>1.857331</td>\n      <td>NaN</td>\n      <td>NaN</td>\n    </tr>\n    <tr>\n      <th>e</th>\n      <td>NaN</td>\n      <td>NaN</td>\n      <td>NaN</td>\n      <td>NaN</td>\n      <td>NaN</td>\n    </tr>\n  </tbody>\n</table>\n</div>"
     },
     "execution_count": 45,
     "metadata": {},
     "output_type": "execute_result"
    }
   ],
   "source": [
    "df[df > 0.5]"
   ],
   "metadata": {
    "collapsed": false,
    "ExecuteTime": {
     "end_time": "2024-06-01T10:44:13.644775300Z",
     "start_time": "2024-06-01T10:44:13.614291Z"
    }
   },
   "id": "ec8b0115ba66661b"
  },
  {
   "cell_type": "markdown",
   "source": [
    "Dwa warunki"
   ],
   "metadata": {
    "collapsed": false
   },
   "id": "13ce1f854f2aec51"
  },
  {
   "cell_type": "code",
   "execution_count": 46,
   "outputs": [
    {
     "data": {
      "text/plain": "   C1  C2  C3  C4  new_C6\na NaN NaN NaN NaN     NaN\nb NaN NaN NaN NaN     NaN\nc NaN NaN NaN NaN     NaN\nd NaN NaN NaN NaN     NaN\ne NaN NaN NaN NaN     NaN",
      "text/html": "<div>\n<style scoped>\n    .dataframe tbody tr th:only-of-type {\n        vertical-align: middle;\n    }\n\n    .dataframe tbody tr th {\n        vertical-align: top;\n    }\n\n    .dataframe thead th {\n        text-align: right;\n    }\n</style>\n<table border=\"1\" class=\"dataframe\">\n  <thead>\n    <tr style=\"text-align: right;\">\n      <th></th>\n      <th>C1</th>\n      <th>C2</th>\n      <th>C3</th>\n      <th>C4</th>\n      <th>new_C6</th>\n    </tr>\n  </thead>\n  <tbody>\n    <tr>\n      <th>a</th>\n      <td>NaN</td>\n      <td>NaN</td>\n      <td>NaN</td>\n      <td>NaN</td>\n      <td>NaN</td>\n    </tr>\n    <tr>\n      <th>b</th>\n      <td>NaN</td>\n      <td>NaN</td>\n      <td>NaN</td>\n      <td>NaN</td>\n      <td>NaN</td>\n    </tr>\n    <tr>\n      <th>c</th>\n      <td>NaN</td>\n      <td>NaN</td>\n      <td>NaN</td>\n      <td>NaN</td>\n      <td>NaN</td>\n    </tr>\n    <tr>\n      <th>d</th>\n      <td>NaN</td>\n      <td>NaN</td>\n      <td>NaN</td>\n      <td>NaN</td>\n      <td>NaN</td>\n    </tr>\n    <tr>\n      <th>e</th>\n      <td>NaN</td>\n      <td>NaN</td>\n      <td>NaN</td>\n      <td>NaN</td>\n      <td>NaN</td>\n    </tr>\n  </tbody>\n</table>\n</div>"
     },
     "execution_count": 46,
     "metadata": {},
     "output_type": "execute_result"
    }
   ],
   "source": [
    "df[(df > 0.2) & (df < 0.4)]"
   ],
   "metadata": {
    "collapsed": false,
    "ExecuteTime": {
     "end_time": "2024-06-01T10:46:17.821599800Z",
     "start_time": "2024-06-01T10:46:17.783223300Z"
    }
   },
   "id": "4547c3567516e5d4"
  },
  {
   "cell_type": "code",
   "execution_count": 47,
   "outputs": [
    {
     "data": {
      "text/plain": "         C1        C2        C3        C4    new_C6\na  0.441227 -0.330870  2.430771 -0.252092  0.882455\nb  1.582481 -0.909232 -0.591637  0.187603  3.164962\nc -1.192765 -0.204877 -0.358829  0.603472 -2.385529\nd -0.700179  1.151391  1.857331 -1.511180 -1.400358\ne -0.980608 -0.856853 -0.871879 -0.422508 -1.961216",
      "text/html": "<div>\n<style scoped>\n    .dataframe tbody tr th:only-of-type {\n        vertical-align: middle;\n    }\n\n    .dataframe tbody tr th {\n        vertical-align: top;\n    }\n\n    .dataframe thead th {\n        text-align: right;\n    }\n</style>\n<table border=\"1\" class=\"dataframe\">\n  <thead>\n    <tr style=\"text-align: right;\">\n      <th></th>\n      <th>C1</th>\n      <th>C2</th>\n      <th>C3</th>\n      <th>C4</th>\n      <th>new_C6</th>\n    </tr>\n  </thead>\n  <tbody>\n    <tr>\n      <th>a</th>\n      <td>0.441227</td>\n      <td>-0.330870</td>\n      <td>2.430771</td>\n      <td>-0.252092</td>\n      <td>0.882455</td>\n    </tr>\n    <tr>\n      <th>b</th>\n      <td>1.582481</td>\n      <td>-0.909232</td>\n      <td>-0.591637</td>\n      <td>0.187603</td>\n      <td>3.164962</td>\n    </tr>\n    <tr>\n      <th>c</th>\n      <td>-1.192765</td>\n      <td>-0.204877</td>\n      <td>-0.358829</td>\n      <td>0.603472</td>\n      <td>-2.385529</td>\n    </tr>\n    <tr>\n      <th>d</th>\n      <td>-0.700179</td>\n      <td>1.151391</td>\n      <td>1.857331</td>\n      <td>-1.511180</td>\n      <td>-1.400358</td>\n    </tr>\n    <tr>\n      <th>e</th>\n      <td>-0.980608</td>\n      <td>-0.856853</td>\n      <td>-0.871879</td>\n      <td>-0.422508</td>\n      <td>-1.961216</td>\n    </tr>\n  </tbody>\n</table>\n</div>"
     },
     "execution_count": 47,
     "metadata": {},
     "output_type": "execute_result"
    }
   ],
   "source": [
    "df[(df < 0.2) | (df > 0.4)]"
   ],
   "metadata": {
    "collapsed": false,
    "ExecuteTime": {
     "end_time": "2024-06-01T10:48:00.325891700Z",
     "start_time": "2024-06-01T10:48:00.268626600Z"
    }
   },
   "id": "8435bf30dcd8e071"
  },
  {
   "cell_type": "markdown",
   "source": [
    "Warunki na kolumnie"
   ],
   "metadata": {
    "collapsed": false
   },
   "id": "9b389d3fcb4d635e"
  },
  {
   "cell_type": "code",
   "execution_count": 48,
   "outputs": [
    {
     "data": {
      "text/plain": "         C1        C2        C3        C4    new_C6\na  0.441227 -0.330870  2.430771 -0.252092  0.882455\nb  1.582481 -0.909232 -0.591637  0.187603  3.164962",
      "text/html": "<div>\n<style scoped>\n    .dataframe tbody tr th:only-of-type {\n        vertical-align: middle;\n    }\n\n    .dataframe tbody tr th {\n        vertical-align: top;\n    }\n\n    .dataframe thead th {\n        text-align: right;\n    }\n</style>\n<table border=\"1\" class=\"dataframe\">\n  <thead>\n    <tr style=\"text-align: right;\">\n      <th></th>\n      <th>C1</th>\n      <th>C2</th>\n      <th>C3</th>\n      <th>C4</th>\n      <th>new_C6</th>\n    </tr>\n  </thead>\n  <tbody>\n    <tr>\n      <th>a</th>\n      <td>0.441227</td>\n      <td>-0.330870</td>\n      <td>2.430771</td>\n      <td>-0.252092</td>\n      <td>0.882455</td>\n    </tr>\n    <tr>\n      <th>b</th>\n      <td>1.582481</td>\n      <td>-0.909232</td>\n      <td>-0.591637</td>\n      <td>0.187603</td>\n      <td>3.164962</td>\n    </tr>\n  </tbody>\n</table>\n</div>"
     },
     "execution_count": 48,
     "metadata": {},
     "output_type": "execute_result"
    }
   ],
   "source": [
    "df[df['C1'] > 0.4]"
   ],
   "metadata": {
    "collapsed": false,
    "ExecuteTime": {
     "end_time": "2024-06-01T10:50:01.047245200Z",
     "start_time": "2024-06-01T10:50:01.006236800Z"
    }
   },
   "id": "3436e681a9152b04"
  },
  {
   "cell_type": "code",
   "execution_count": 49,
   "outputs": [
    {
     "data": {
      "text/plain": "a    2.430771\nb   -0.591637\nName: C3, dtype: float64"
     },
     "execution_count": 49,
     "metadata": {},
     "output_type": "execute_result"
    }
   ],
   "source": [
    "df[df['C1'] > 0.4]['C3']"
   ],
   "metadata": {
    "collapsed": false,
    "ExecuteTime": {
     "end_time": "2024-06-01T10:51:00.216972700Z",
     "start_time": "2024-06-01T10:51:00.176479300Z"
    }
   },
   "id": "d8df77e2a63eea5b"
  },
  {
   "cell_type": "markdown",
   "source": [
    "Usuwanie indeksów"
   ],
   "metadata": {
    "collapsed": false
   },
   "id": "86ae68227a7c4a71"
  },
  {
   "cell_type": "code",
   "execution_count": 50,
   "outputs": [
    {
     "data": {
      "text/plain": "  index        C1        C2        C3        C4    new_C6\n0     a  0.441227 -0.330870  2.430771 -0.252092  0.882455\n1     b  1.582481 -0.909232 -0.591637  0.187603  3.164962\n2     c -1.192765 -0.204877 -0.358829  0.603472 -2.385529\n3     d -0.700179  1.151391  1.857331 -1.511180 -1.400358\n4     e -0.980608 -0.856853 -0.871879 -0.422508 -1.961216",
      "text/html": "<div>\n<style scoped>\n    .dataframe tbody tr th:only-of-type {\n        vertical-align: middle;\n    }\n\n    .dataframe tbody tr th {\n        vertical-align: top;\n    }\n\n    .dataframe thead th {\n        text-align: right;\n    }\n</style>\n<table border=\"1\" class=\"dataframe\">\n  <thead>\n    <tr style=\"text-align: right;\">\n      <th></th>\n      <th>index</th>\n      <th>C1</th>\n      <th>C2</th>\n      <th>C3</th>\n      <th>C4</th>\n      <th>new_C6</th>\n    </tr>\n  </thead>\n  <tbody>\n    <tr>\n      <th>0</th>\n      <td>a</td>\n      <td>0.441227</td>\n      <td>-0.330870</td>\n      <td>2.430771</td>\n      <td>-0.252092</td>\n      <td>0.882455</td>\n    </tr>\n    <tr>\n      <th>1</th>\n      <td>b</td>\n      <td>1.582481</td>\n      <td>-0.909232</td>\n      <td>-0.591637</td>\n      <td>0.187603</td>\n      <td>3.164962</td>\n    </tr>\n    <tr>\n      <th>2</th>\n      <td>c</td>\n      <td>-1.192765</td>\n      <td>-0.204877</td>\n      <td>-0.358829</td>\n      <td>0.603472</td>\n      <td>-2.385529</td>\n    </tr>\n    <tr>\n      <th>3</th>\n      <td>d</td>\n      <td>-0.700179</td>\n      <td>1.151391</td>\n      <td>1.857331</td>\n      <td>-1.511180</td>\n      <td>-1.400358</td>\n    </tr>\n    <tr>\n      <th>4</th>\n      <td>e</td>\n      <td>-0.980608</td>\n      <td>-0.856853</td>\n      <td>-0.871879</td>\n      <td>-0.422508</td>\n      <td>-1.961216</td>\n    </tr>\n  </tbody>\n</table>\n</div>"
     },
     "execution_count": 50,
     "metadata": {},
     "output_type": "execute_result"
    }
   ],
   "source": [
    "df = df.reset_index()\n",
    "df"
   ],
   "metadata": {
    "collapsed": false,
    "ExecuteTime": {
     "end_time": "2024-06-01T10:52:51.255175500Z",
     "start_time": "2024-06-01T10:52:51.222444900Z"
    }
   },
   "id": "5419afd1c4a9fabf"
  },
  {
   "cell_type": "code",
   "execution_count": 51,
   "outputs": [
    {
     "data": {
      "text/plain": "  index        C1        C2        C3        C4    new_C6  new_index\n0     a  0.441227 -0.330870  2.430771 -0.252092  0.882455        100\n1     b  1.582481 -0.909232 -0.591637  0.187603  3.164962        101\n2     c -1.192765 -0.204877 -0.358829  0.603472 -2.385529        102\n3     d -0.700179  1.151391  1.857331 -1.511180 -1.400358        103\n4     e -0.980608 -0.856853 -0.871879 -0.422508 -1.961216        104",
      "text/html": "<div>\n<style scoped>\n    .dataframe tbody tr th:only-of-type {\n        vertical-align: middle;\n    }\n\n    .dataframe tbody tr th {\n        vertical-align: top;\n    }\n\n    .dataframe thead th {\n        text-align: right;\n    }\n</style>\n<table border=\"1\" class=\"dataframe\">\n  <thead>\n    <tr style=\"text-align: right;\">\n      <th></th>\n      <th>index</th>\n      <th>C1</th>\n      <th>C2</th>\n      <th>C3</th>\n      <th>C4</th>\n      <th>new_C6</th>\n      <th>new_index</th>\n    </tr>\n  </thead>\n  <tbody>\n    <tr>\n      <th>0</th>\n      <td>a</td>\n      <td>0.441227</td>\n      <td>-0.330870</td>\n      <td>2.430771</td>\n      <td>-0.252092</td>\n      <td>0.882455</td>\n      <td>100</td>\n    </tr>\n    <tr>\n      <th>1</th>\n      <td>b</td>\n      <td>1.582481</td>\n      <td>-0.909232</td>\n      <td>-0.591637</td>\n      <td>0.187603</td>\n      <td>3.164962</td>\n      <td>101</td>\n    </tr>\n    <tr>\n      <th>2</th>\n      <td>c</td>\n      <td>-1.192765</td>\n      <td>-0.204877</td>\n      <td>-0.358829</td>\n      <td>0.603472</td>\n      <td>-2.385529</td>\n      <td>102</td>\n    </tr>\n    <tr>\n      <th>3</th>\n      <td>d</td>\n      <td>-0.700179</td>\n      <td>1.151391</td>\n      <td>1.857331</td>\n      <td>-1.511180</td>\n      <td>-1.400358</td>\n      <td>103</td>\n    </tr>\n    <tr>\n      <th>4</th>\n      <td>e</td>\n      <td>-0.980608</td>\n      <td>-0.856853</td>\n      <td>-0.871879</td>\n      <td>-0.422508</td>\n      <td>-1.961216</td>\n      <td>104</td>\n    </tr>\n  </tbody>\n</table>\n</div>"
     },
     "execution_count": 51,
     "metadata": {},
     "output_type": "execute_result"
    }
   ],
   "source": [
    "df['new_index'] = [100, 101, 102, 103, 104]\n",
    "df"
   ],
   "metadata": {
    "collapsed": false,
    "ExecuteTime": {
     "end_time": "2024-06-01T10:54:08.303536500Z",
     "start_time": "2024-06-01T10:54:08.255282500Z"
    }
   },
   "id": "fa3b664af55bd409"
  },
  {
   "cell_type": "code",
   "execution_count": 52,
   "outputs": [
    {
     "data": {
      "text/plain": "          index        C1        C2        C3        C4    new_C6\nnew_index                                                        \n100           a  0.441227 -0.330870  2.430771 -0.252092  0.882455\n101           b  1.582481 -0.909232 -0.591637  0.187603  3.164962\n102           c -1.192765 -0.204877 -0.358829  0.603472 -2.385529\n103           d -0.700179  1.151391  1.857331 -1.511180 -1.400358\n104           e -0.980608 -0.856853 -0.871879 -0.422508 -1.961216",
      "text/html": "<div>\n<style scoped>\n    .dataframe tbody tr th:only-of-type {\n        vertical-align: middle;\n    }\n\n    .dataframe tbody tr th {\n        vertical-align: top;\n    }\n\n    .dataframe thead th {\n        text-align: right;\n    }\n</style>\n<table border=\"1\" class=\"dataframe\">\n  <thead>\n    <tr style=\"text-align: right;\">\n      <th></th>\n      <th>index</th>\n      <th>C1</th>\n      <th>C2</th>\n      <th>C3</th>\n      <th>C4</th>\n      <th>new_C6</th>\n    </tr>\n    <tr>\n      <th>new_index</th>\n      <th></th>\n      <th></th>\n      <th></th>\n      <th></th>\n      <th></th>\n      <th></th>\n    </tr>\n  </thead>\n  <tbody>\n    <tr>\n      <th>100</th>\n      <td>a</td>\n      <td>0.441227</td>\n      <td>-0.330870</td>\n      <td>2.430771</td>\n      <td>-0.252092</td>\n      <td>0.882455</td>\n    </tr>\n    <tr>\n      <th>101</th>\n      <td>b</td>\n      <td>1.582481</td>\n      <td>-0.909232</td>\n      <td>-0.591637</td>\n      <td>0.187603</td>\n      <td>3.164962</td>\n    </tr>\n    <tr>\n      <th>102</th>\n      <td>c</td>\n      <td>-1.192765</td>\n      <td>-0.204877</td>\n      <td>-0.358829</td>\n      <td>0.603472</td>\n      <td>-2.385529</td>\n    </tr>\n    <tr>\n      <th>103</th>\n      <td>d</td>\n      <td>-0.700179</td>\n      <td>1.151391</td>\n      <td>1.857331</td>\n      <td>-1.511180</td>\n      <td>-1.400358</td>\n    </tr>\n    <tr>\n      <th>104</th>\n      <td>e</td>\n      <td>-0.980608</td>\n      <td>-0.856853</td>\n      <td>-0.871879</td>\n      <td>-0.422508</td>\n      <td>-1.961216</td>\n    </tr>\n  </tbody>\n</table>\n</div>"
     },
     "execution_count": 52,
     "metadata": {},
     "output_type": "execute_result"
    }
   ],
   "source": [
    "df = df.set_index('new_index')\n",
    "df"
   ],
   "metadata": {
    "collapsed": false,
    "ExecuteTime": {
     "end_time": "2024-06-01T10:54:58.513753Z",
     "start_time": "2024-06-01T10:54:58.472336400Z"
    }
   },
   "id": "75da11bc8826c5f3"
  },
  {
   "cell_type": "code",
   "execution_count": 53,
   "outputs": [
    {
     "data": {
      "text/plain": "index            d\nC1       -0.700179\nC2        1.151391\nC3        1.857331\nC4        -1.51118\nnew_C6   -1.400358\nName: 103, dtype: object"
     },
     "execution_count": 53,
     "metadata": {},
     "output_type": "execute_result"
    }
   ],
   "source": [
    "df.loc[103]"
   ],
   "metadata": {
    "collapsed": false,
    "ExecuteTime": {
     "end_time": "2024-06-01T10:56:00.626740100Z",
     "start_time": "2024-06-01T10:56:00.587218100Z"
    }
   },
   "id": "9c2513d042002b06"
  },
  {
   "cell_type": "code",
   "execution_count": 54,
   "outputs": [
    {
     "ename": "KeyError",
     "evalue": "'d'",
     "output_type": "error",
     "traceback": [
      "\u001B[1;31m---------------------------------------------------------------------------\u001B[0m",
      "\u001B[1;31mKeyError\u001B[0m                                  Traceback (most recent call last)",
      "File \u001B[1;32mC:\\Misiek\\Programowanie\\Studia\\Wykorzystanie bibliotek Pythona do analizy i przetwarzania danych\\Analiza\\venv\\Lib\\site-packages\\pandas\\core\\indexes\\base.py:3805\u001B[0m, in \u001B[0;36mIndex.get_loc\u001B[1;34m(self, key)\u001B[0m\n\u001B[0;32m   3804\u001B[0m \u001B[38;5;28;01mtry\u001B[39;00m:\n\u001B[1;32m-> 3805\u001B[0m     \u001B[38;5;28;01mreturn\u001B[39;00m \u001B[38;5;28;43mself\u001B[39;49m\u001B[38;5;241;43m.\u001B[39;49m\u001B[43m_engine\u001B[49m\u001B[38;5;241;43m.\u001B[39;49m\u001B[43mget_loc\u001B[49m\u001B[43m(\u001B[49m\u001B[43mcasted_key\u001B[49m\u001B[43m)\u001B[49m\n\u001B[0;32m   3806\u001B[0m \u001B[38;5;28;01mexcept\u001B[39;00m \u001B[38;5;167;01mKeyError\u001B[39;00m \u001B[38;5;28;01mas\u001B[39;00m err:\n",
      "File \u001B[1;32mindex.pyx:167\u001B[0m, in \u001B[0;36mpandas._libs.index.IndexEngine.get_loc\u001B[1;34m()\u001B[0m\n",
      "File \u001B[1;32mindex.pyx:175\u001B[0m, in \u001B[0;36mpandas._libs.index.IndexEngine.get_loc\u001B[1;34m()\u001B[0m\n",
      "File \u001B[1;32mpandas\\\\_libs\\\\index_class_helper.pxi:70\u001B[0m, in \u001B[0;36mpandas._libs.index.Int64Engine._check_type\u001B[1;34m()\u001B[0m\n",
      "\u001B[1;31mKeyError\u001B[0m: 'd'",
      "\nThe above exception was the direct cause of the following exception:\n",
      "\u001B[1;31mKeyError\u001B[0m                                  Traceback (most recent call last)",
      "Cell \u001B[1;32mIn[54], line 1\u001B[0m\n\u001B[1;32m----> 1\u001B[0m \u001B[43mdf\u001B[49m\u001B[38;5;241;43m.\u001B[39;49m\u001B[43mloc\u001B[49m\u001B[43m[\u001B[49m\u001B[38;5;124;43m'\u001B[39;49m\u001B[38;5;124;43md\u001B[39;49m\u001B[38;5;124;43m'\u001B[39;49m\u001B[43m]\u001B[49m\n",
      "File \u001B[1;32mC:\\Misiek\\Programowanie\\Studia\\Wykorzystanie bibliotek Pythona do analizy i przetwarzania danych\\Analiza\\venv\\Lib\\site-packages\\pandas\\core\\indexing.py:1191\u001B[0m, in \u001B[0;36m_LocationIndexer.__getitem__\u001B[1;34m(self, key)\u001B[0m\n\u001B[0;32m   1189\u001B[0m maybe_callable \u001B[38;5;241m=\u001B[39m com\u001B[38;5;241m.\u001B[39mapply_if_callable(key, \u001B[38;5;28mself\u001B[39m\u001B[38;5;241m.\u001B[39mobj)\n\u001B[0;32m   1190\u001B[0m maybe_callable \u001B[38;5;241m=\u001B[39m \u001B[38;5;28mself\u001B[39m\u001B[38;5;241m.\u001B[39m_check_deprecated_callable_usage(key, maybe_callable)\n\u001B[1;32m-> 1191\u001B[0m \u001B[38;5;28;01mreturn\u001B[39;00m \u001B[38;5;28;43mself\u001B[39;49m\u001B[38;5;241;43m.\u001B[39;49m\u001B[43m_getitem_axis\u001B[49m\u001B[43m(\u001B[49m\u001B[43mmaybe_callable\u001B[49m\u001B[43m,\u001B[49m\u001B[43m \u001B[49m\u001B[43maxis\u001B[49m\u001B[38;5;241;43m=\u001B[39;49m\u001B[43maxis\u001B[49m\u001B[43m)\u001B[49m\n",
      "File \u001B[1;32mC:\\Misiek\\Programowanie\\Studia\\Wykorzystanie bibliotek Pythona do analizy i przetwarzania danych\\Analiza\\venv\\Lib\\site-packages\\pandas\\core\\indexing.py:1431\u001B[0m, in \u001B[0;36m_LocIndexer._getitem_axis\u001B[1;34m(self, key, axis)\u001B[0m\n\u001B[0;32m   1429\u001B[0m \u001B[38;5;66;03m# fall thru to straight lookup\u001B[39;00m\n\u001B[0;32m   1430\u001B[0m \u001B[38;5;28mself\u001B[39m\u001B[38;5;241m.\u001B[39m_validate_key(key, axis)\n\u001B[1;32m-> 1431\u001B[0m \u001B[38;5;28;01mreturn\u001B[39;00m \u001B[38;5;28;43mself\u001B[39;49m\u001B[38;5;241;43m.\u001B[39;49m\u001B[43m_get_label\u001B[49m\u001B[43m(\u001B[49m\u001B[43mkey\u001B[49m\u001B[43m,\u001B[49m\u001B[43m \u001B[49m\u001B[43maxis\u001B[49m\u001B[38;5;241;43m=\u001B[39;49m\u001B[43maxis\u001B[49m\u001B[43m)\u001B[49m\n",
      "File \u001B[1;32mC:\\Misiek\\Programowanie\\Studia\\Wykorzystanie bibliotek Pythona do analizy i przetwarzania danych\\Analiza\\venv\\Lib\\site-packages\\pandas\\core\\indexing.py:1381\u001B[0m, in \u001B[0;36m_LocIndexer._get_label\u001B[1;34m(self, label, axis)\u001B[0m\n\u001B[0;32m   1379\u001B[0m \u001B[38;5;28;01mdef\u001B[39;00m \u001B[38;5;21m_get_label\u001B[39m(\u001B[38;5;28mself\u001B[39m, label, axis: AxisInt):\n\u001B[0;32m   1380\u001B[0m     \u001B[38;5;66;03m# GH#5567 this will fail if the label is not present in the axis.\u001B[39;00m\n\u001B[1;32m-> 1381\u001B[0m     \u001B[38;5;28;01mreturn\u001B[39;00m \u001B[38;5;28;43mself\u001B[39;49m\u001B[38;5;241;43m.\u001B[39;49m\u001B[43mobj\u001B[49m\u001B[38;5;241;43m.\u001B[39;49m\u001B[43mxs\u001B[49m\u001B[43m(\u001B[49m\u001B[43mlabel\u001B[49m\u001B[43m,\u001B[49m\u001B[43m \u001B[49m\u001B[43maxis\u001B[49m\u001B[38;5;241;43m=\u001B[39;49m\u001B[43maxis\u001B[49m\u001B[43m)\u001B[49m\n",
      "File \u001B[1;32mC:\\Misiek\\Programowanie\\Studia\\Wykorzystanie bibliotek Pythona do analizy i przetwarzania danych\\Analiza\\venv\\Lib\\site-packages\\pandas\\core\\generic.py:4301\u001B[0m, in \u001B[0;36mNDFrame.xs\u001B[1;34m(self, key, axis, level, drop_level)\u001B[0m\n\u001B[0;32m   4299\u001B[0m             new_index \u001B[38;5;241m=\u001B[39m index[loc]\n\u001B[0;32m   4300\u001B[0m \u001B[38;5;28;01melse\u001B[39;00m:\n\u001B[1;32m-> 4301\u001B[0m     loc \u001B[38;5;241m=\u001B[39m \u001B[43mindex\u001B[49m\u001B[38;5;241;43m.\u001B[39;49m\u001B[43mget_loc\u001B[49m\u001B[43m(\u001B[49m\u001B[43mkey\u001B[49m\u001B[43m)\u001B[49m\n\u001B[0;32m   4303\u001B[0m     \u001B[38;5;28;01mif\u001B[39;00m \u001B[38;5;28misinstance\u001B[39m(loc, np\u001B[38;5;241m.\u001B[39mndarray):\n\u001B[0;32m   4304\u001B[0m         \u001B[38;5;28;01mif\u001B[39;00m loc\u001B[38;5;241m.\u001B[39mdtype \u001B[38;5;241m==\u001B[39m np\u001B[38;5;241m.\u001B[39mbool_:\n",
      "File \u001B[1;32mC:\\Misiek\\Programowanie\\Studia\\Wykorzystanie bibliotek Pythona do analizy i przetwarzania danych\\Analiza\\venv\\Lib\\site-packages\\pandas\\core\\indexes\\base.py:3812\u001B[0m, in \u001B[0;36mIndex.get_loc\u001B[1;34m(self, key)\u001B[0m\n\u001B[0;32m   3807\u001B[0m     \u001B[38;5;28;01mif\u001B[39;00m \u001B[38;5;28misinstance\u001B[39m(casted_key, \u001B[38;5;28mslice\u001B[39m) \u001B[38;5;129;01mor\u001B[39;00m (\n\u001B[0;32m   3808\u001B[0m         \u001B[38;5;28misinstance\u001B[39m(casted_key, abc\u001B[38;5;241m.\u001B[39mIterable)\n\u001B[0;32m   3809\u001B[0m         \u001B[38;5;129;01mand\u001B[39;00m \u001B[38;5;28many\u001B[39m(\u001B[38;5;28misinstance\u001B[39m(x, \u001B[38;5;28mslice\u001B[39m) \u001B[38;5;28;01mfor\u001B[39;00m x \u001B[38;5;129;01min\u001B[39;00m casted_key)\n\u001B[0;32m   3810\u001B[0m     ):\n\u001B[0;32m   3811\u001B[0m         \u001B[38;5;28;01mraise\u001B[39;00m InvalidIndexError(key)\n\u001B[1;32m-> 3812\u001B[0m     \u001B[38;5;28;01mraise\u001B[39;00m \u001B[38;5;167;01mKeyError\u001B[39;00m(key) \u001B[38;5;28;01mfrom\u001B[39;00m \u001B[38;5;21;01merr\u001B[39;00m\n\u001B[0;32m   3813\u001B[0m \u001B[38;5;28;01mexcept\u001B[39;00m \u001B[38;5;167;01mTypeError\u001B[39;00m:\n\u001B[0;32m   3814\u001B[0m     \u001B[38;5;66;03m# If we have a listlike key, _check_indexing_error will raise\u001B[39;00m\n\u001B[0;32m   3815\u001B[0m     \u001B[38;5;66;03m#  InvalidIndexError. Otherwise we fall through and re-raise\u001B[39;00m\n\u001B[0;32m   3816\u001B[0m     \u001B[38;5;66;03m#  the TypeError.\u001B[39;00m\n\u001B[0;32m   3817\u001B[0m     \u001B[38;5;28mself\u001B[39m\u001B[38;5;241m.\u001B[39m_check_indexing_error(key)\n",
      "\u001B[1;31mKeyError\u001B[0m: 'd'"
     ]
    }
   ],
   "source": [
    "df.loc['d']"
   ],
   "metadata": {
    "collapsed": false,
    "ExecuteTime": {
     "end_time": "2024-06-01T10:56:55.615193200Z",
     "start_time": "2024-06-01T10:56:55.475945500Z"
    }
   },
   "id": "ed1175fc7a8a482b"
  },
  {
   "cell_type": "code",
   "execution_count": null,
   "outputs": [],
   "source": [],
   "metadata": {
    "collapsed": false
   },
   "id": "4843140178d21429"
  }
 ],
 "metadata": {
  "kernelspec": {
   "display_name": "Python 3",
   "language": "python",
   "name": "python3"
  },
  "language_info": {
   "codemirror_mode": {
    "name": "ipython",
    "version": 2
   },
   "file_extension": ".py",
   "mimetype": "text/x-python",
   "name": "python",
   "nbconvert_exporter": "python",
   "pygments_lexer": "ipython2",
   "version": "2.7.6"
  }
 },
 "nbformat": 4,
 "nbformat_minor": 5
}
